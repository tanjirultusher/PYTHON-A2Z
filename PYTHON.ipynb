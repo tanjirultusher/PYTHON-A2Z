{
  "cells": [
    {
      "cell_type": "markdown",
      "metadata": {
        "id": "view-in-github",
        "colab_type": "text"
      },
      "source": [
        "<a href=\"https://colab.research.google.com/github/tanjirultusher/PYTHON-A2Z/blob/main/PYTHON.ipynb\" target=\"_parent\"><img src=\"https://colab.research.google.com/assets/colab-badge.svg\" alt=\"Open In Colab\"/></a>"
      ]
    },
    {
      "cell_type": "markdown",
      "metadata": {
        "id": "PmtYSlrOjwSq"
      },
      "source": [
        "***START LEARNING PYTHON ***"
      ]
    },
    {
      "cell_type": "code",
      "execution_count": null,
      "metadata": {
        "colab": {
          "base_uri": "https://localhost:8080/"
        },
        "id": "C7hdO-Zej3Ah",
        "outputId": "c7a58762-132e-46a1-e336-7805b1e18174"
      },
      "outputs": [
        {
          "name": "stdout",
          "output_type": "stream",
          "text": [
            "python is fun\n",
            "I am learning python\n",
            "python is fun\n",
            "I am learning python\n",
            "Name: Tanjirul Tusher\n"
          ]
        }
      ],
      "source": [
        "#print something in python\n",
        "print(\"python is fun\")\n",
        "print(\"I am learning python\")\n",
        "\n",
        "#print something in python\n",
        "print(\"python is fun\")\n",
        "print(\"I am learning python\")\n",
        "\n",
        "f_name = \"Tanjirul\"\n",
        "l_name = \"Tusher\"\n",
        "print(\"Name:\",f_name,l_name)"
      ]
    },
    {
      "cell_type": "code",
      "execution_count": null,
      "metadata": {
        "colab": {
          "base_uri": "https://localhost:8080/"
        },
        "collapsed": true,
        "id": "5yqGOzNnj-P-",
        "outputId": "312169db-1c3b-4e0a-9456-6d0855c4b848"
      },
      "outputs": [
        {
          "name": "stdout",
          "output_type": "stream",
          "text": [
            "First line.\n",
            "Second line.\n"
          ]
        }
      ],
      "source": [
        "s = 'First line.\\nSecond line.'  # \\n means newline\n",
        "#s  # without print(), special characters are included in the string\n",
        "print(s)  # with print(), special characters are interpreted, so \\n produces new line"
      ]
    },
    {
      "cell_type": "code",
      "execution_count": null,
      "metadata": {
        "id": "jFMp219PvVsd"
      },
      "outputs": [],
      "source": [
        "a=\"i loved movie 'Big Hero 6'\\n\"\n",
        "b='i loved movie \"Big Hero 6\"\\n'\n",
        "c=\"i loved movie \\\"Big Hero 6\\\"\\n\"\n",
        "print(a,b,c)"
      ]
    },
    {
      "cell_type": "markdown",
      "metadata": {
        "id": "rXXOTrQ9BVz3"
      },
      "source": [
        "**PYTHON IDENTITY OPERATOR**:"
      ]
    },
    {
      "cell_type": "code",
      "execution_count": null,
      "metadata": {
        "colab": {
          "base_uri": "https://localhost:8080/"
        },
        "id": "3qYSXWbLBbUL",
        "outputId": "c50ce911-cba6-413e-b858-6053a2192ee1"
      },
      "outputs": [
        {
          "name": "stdout",
          "output_type": "stream",
          "text": [
            "True\n",
            "False\n",
            "\n",
            "\n",
            "True\n",
            "False\n"
          ]
        }
      ],
      "source": [
        "X = 10\n",
        "Y = 10\n",
        "Z = 7\n",
        "\n",
        "print( X is Y)\n",
        "print(X is Z)\n",
        "print('\\n')\n",
        "print(X is not Z)\n",
        "print(X is not Y)\n"
      ]
    },
    {
      "cell_type": "markdown",
      "metadata": {
        "id": "oxGWomN2CaCF"
      },
      "source": [
        "**PYTHON MEMBERSHIP OPERATOR**"
      ]
    },
    {
      "cell_type": "code",
      "execution_count": null,
      "metadata": {
        "colab": {
          "base_uri": "https://localhost:8080/"
        },
        "id": "bBM-Guo9Ch_4",
        "outputId": "27550735-6151-4dc1-e871-eb4a9ea147ac"
      },
      "outputs": [
        {
          "name": "stdout",
          "output_type": "stream",
          "text": [
            "True\n",
            "False\n",
            "False\n",
            "True\n"
          ]
        }
      ],
      "source": [
        "x = \" tusher\"\n",
        "print('h' in x)\n",
        "print('h' not in x)\n",
        "print('i' in x)\n",
        "print('i' not in x)"
      ]
    },
    {
      "cell_type": "markdown",
      "metadata": {
        "id": "nHvnveS-vFlV"
      },
      "source": [
        "**KEYWORD ARGUMENT END**"
      ]
    },
    {
      "cell_type": "code",
      "execution_count": null,
      "metadata": {
        "colab": {
          "base_uri": "https://localhost:8080/"
        },
        "id": "xt-h8WSgvKph",
        "outputId": "f565a78f-84ae-441c-bb3c-18207a8e8e9e"
      },
      "outputs": [
        {
          "name": "stdout",
          "output_type": "stream",
          "text": [
            "python is fun. I am learning python\n"
          ]
        }
      ],
      "source": [
        "print(\"python is fun. \",end=\"\")\n",
        "print(\"I am learning python\")"
      ]
    },
    {
      "cell_type": "markdown",
      "metadata": {
        "id": "3FqkET94vcb1"
      },
      "source": [
        "**KEYWORD ARGUMENT SEP**"
      ]
    },
    {
      "cell_type": "code",
      "execution_count": null,
      "metadata": {
        "colab": {
          "base_uri": "https://localhost:8080/"
        },
        "id": "X3TQrCSVvWvE",
        "outputId": "adf7643a-a368-4725-bdcc-76acb0658eea"
      },
      "outputs": [
        {
          "name": "stdout",
          "output_type": "stream",
          "text": [
            "Hello world\n",
            "Hello....world\n",
            "Hello/world\n",
            "Hello\n",
            "world\n"
          ]
        }
      ],
      "source": [
        "print(\"Hello\",\"world\")\n",
        "print(\"Hello\",\"world\",sep='....')\n",
        "print(\"Hello\",\"world\",sep='/')\n",
        "print(\"Hello\",\"world\",sep='\\n')"
      ]
    },
    {
      "cell_type": "markdown",
      "metadata": {
        "id": "JzZ3OMFIkoPR"
      },
      "source": [
        "**GETTING INPUT IN PYTHON**"
      ]
    },
    {
      "cell_type": "code",
      "execution_count": null,
      "metadata": {
        "colab": {
          "base_uri": "https://localhost:8080/"
        },
        "collapsed": true,
        "id": "OjydkdtCkrar",
        "outputId": "aa2e3ffd-6adb-4617-8d9d-93a4347ea22d"
      },
      "outputs": [
        {
          "name": "stdout",
          "output_type": "stream",
          "text": [
            "enter your name:tusher\n",
            "tusher\n",
            "enter your name:tusher\n",
            "my name is tusher\n",
            "enter a number: 2\n",
            "2\n",
            "enter a number: 2\n",
            "2.0\n"
          ]
        }
      ],
      "source": [
        "#how to get input\n",
        "a=input(\"enter your name:\")\n",
        "print(a)\n",
        "print(\"my name is\",input(\"enter your name:\"))\n",
        "#getting integer as input\n",
        "b=int(input(\"enter a number: \"))\n",
        "print(b)\n",
        "#getting float as input\n",
        "c=float(input(\"enter a number: \"))\n",
        "print(c)"
      ]
    },
    {
      "cell_type": "code",
      "execution_count": null,
      "metadata": {
        "colab": {
          "base_uri": "https://localhost:8080/"
        },
        "collapsed": true,
        "id": "mUU8Zxjqpc41",
        "outputId": "75a4208f-49ab-48c9-bc04-d00cf2bff05e"
      },
      "outputs": [
        {
          "name": "stdout",
          "output_type": "stream",
          "text": [
            "enter three numbers: 1,2,3\n",
            "x is: 1\n",
            "y is: 2\n",
            "z is: 3\n"
          ]
        }
      ],
      "source": [
        "#input multiple value in one line\n",
        "x,y,z = input(\"enter three numbers: \").split(\",\",3)\n",
        "print(\"x is:\",x)\n",
        "print(\"y is:\",y)\n",
        "print(\"z is:\",z)"
      ]
    },
    {
      "cell_type": "markdown",
      "metadata": {
        "id": "UHHwau4hkGyw"
      },
      "source": [
        "**PYTHON NUMBER**"
      ]
    },
    {
      "cell_type": "code",
      "execution_count": null,
      "metadata": {
        "colab": {
          "base_uri": "https://localhost:8080/"
        },
        "collapsed": true,
        "id": "VH-a8Y8fkLpG",
        "outputId": "49c6a792-8784-43f5-edfb-5444c978f3ad"
      },
      "outputs": [
        {
          "name": "stdout",
          "output_type": "stream",
          "text": [
            "30.5\n",
            "10.5\n",
            "205.0\n",
            "2.05\n",
            "3.1622776601683794e+20\n",
            "0.0\n",
            "900\n"
          ]
        }
      ],
      "source": [
        "a = 10  # declare a variable and assign vale to it\n",
        "b = 20.5  # float\n",
        "#addition\n",
        "c = a + b\n",
        "print(c)\n",
        "#subtraction\n",
        "d = b-a\n",
        "print(d)\n",
        "#multiplication\n",
        "e=a*b\n",
        "print(e)\n",
        "#division\n",
        "f=b/a\n",
        "print(f)\n",
        "#exponential\n",
        "g = a**b\n",
        "print(g)\n",
        "#floor division\n",
        "h = a//b\n",
        "print(h)\n",
        "width = 20\n",
        "height = 5 * 9\n",
        "print(width * height)"
      ]
    },
    {
      "cell_type": "code",
      "execution_count": null,
      "metadata": {
        "id": "8eYVoUvpk415"
      },
      "outputs": [],
      "source": [
        "#temperature convert celcius to fahrenheit\n",
        "c=int(input(\"enter celcius temprature:\"))\n",
        "f=(c*9/5)+32\n",
        "print(\"fahrenheit teamperature=\",f)"
      ]
    },
    {
      "cell_type": "markdown",
      "metadata": {
        "id": "i89uyaz5wKZ1"
      },
      "source": [
        "**PYTHON CONTROL FLOW: CONDITINAL STATEMENT**"
      ]
    },
    {
      "cell_type": "code",
      "execution_count": null,
      "metadata": {
        "colab": {
          "base_uri": "https://localhost:8080/"
        },
        "id": "vgu3BhUUwYXJ",
        "outputId": "ca56ff2f-3872-4feb-d1d1-8de0ff19d3cf"
      },
      "outputs": [
        {
          "name": "stdout",
          "output_type": "stream",
          "text": [
            "a is grater than 10\n",
            "code ended\n"
          ]
        }
      ],
      "source": [
        "a = 15\n",
        "if( a > 10 ):\n",
        "  print(\"a is grater than 10\")\n",
        "print(\"code ended\")"
      ]
    },
    {
      "cell_type": "code",
      "execution_count": null,
      "metadata": {
        "colab": {
          "base_uri": "https://localhost:8080/"
        },
        "collapsed": true,
        "id": "5jZf34Mcwsh1",
        "outputId": "176fd799-180d-4666-f17e-f7ad68bd6004"
      },
      "outputs": [
        {
          "name": "stdout",
          "output_type": "stream",
          "text": [
            "enter a number:-1\n",
            "a is negative number\n"
          ]
        }
      ],
      "source": [
        "#a = 16\n",
        "a = int(input(\"enter a number:\"))\n",
        "if(a>0):\n",
        "  print(\"a is positive number\")\n",
        "else:\n",
        "  print(\"a is negative number\")"
      ]
    },
    {
      "cell_type": "code",
      "execution_count": null,
      "metadata": {
        "colab": {
          "base_uri": "https://localhost:8080/"
        },
        "id": "eJwiAC4PxPQk",
        "outputId": "ef306d7c-50d0-420e-d01e-4742d73620a8"
      },
      "outputs": [
        {
          "name": "stdout",
          "output_type": "stream",
          "text": [
            "x is positive number\n"
          ]
        }
      ],
      "source": [
        "x = 16\n",
        "if(x % 2 == 0):\n",
        "  print(\"x is positive number\")\n",
        "else:\n",
        "  print(\"x is negative number\")"
      ]
    },
    {
      "cell_type": "code",
      "execution_count": null,
      "metadata": {
        "colab": {
          "base_uri": "https://localhost:8080/"
        },
        "id": "SSI3_2xpxnNA",
        "outputId": "337fa903-19d3-41cb-ee20-d2493adc4bef"
      },
      "outputs": [
        {
          "name": "stdout",
          "output_type": "stream",
          "text": [
            "a is less than b\n"
          ]
        }
      ],
      "source": [
        "a = 10\n",
        "b = 13\n",
        "if(a > b):\n",
        "  print(\"a is grater than b.\")\n",
        "elif(a < b):\n",
        "  print(\"a is less than b\")\n",
        "else:\n",
        "  print(\"a and b are equal\")"
      ]
    },
    {
      "cell_type": "code",
      "execution_count": null,
      "metadata": {
        "colab": {
          "base_uri": "https://localhost:8080/"
        },
        "id": "SWhtLZjTyJZL",
        "outputId": "923652af-0e3c-49cb-9c04-8144d4d55805"
      },
      "outputs": [
        {
          "name": "stdout",
          "output_type": "stream",
          "text": [
            "positive number\n"
          ]
        }
      ],
      "source": [
        "num =  4\n",
        "if num >= 0:\n",
        "  if num == 0:\n",
        "    print(\"zero\")\n",
        "  else:\n",
        "    print(\"positive number\")\n",
        "else:\n",
        "  print(\"negative number\")\n"
      ]
    },
    {
      "cell_type": "markdown",
      "metadata": {
        "id": "ZgJ8bsce4csZ"
      },
      "source": [
        "**PYTHON CONTROL FLOW: LOOP**"
      ]
    },
    {
      "cell_type": "markdown",
      "metadata": {
        "id": "77_mVxSM-E2A"
      },
      "source": [
        "**WHILE LOOP**"
      ]
    },
    {
      "cell_type": "code",
      "execution_count": null,
      "metadata": {
        "colab": {
          "base_uri": "https://localhost:8080/"
        },
        "id": "kt-edAdU4WjO",
        "outputId": "42409bf0-a734-4e17-b7be-785b4a84faba"
      },
      "outputs": [
        {
          "name": "stdout",
          "output_type": "stream",
          "text": [
            "Hello! Tusher\n",
            "Hello! Tusher\n",
            "Hello! Tusher\n",
            "Hello! Tusher\n",
            "Hello! Tusher\n"
          ]
        }
      ],
      "source": [
        "count = 1\n",
        "while (count <= 5):\n",
        "  print(\"Hello! Tusher\")\n",
        "  count += 1"
      ]
    },
    {
      "cell_type": "code",
      "execution_count": null,
      "metadata": {
        "colab": {
          "base_uri": "https://localhost:8080/"
        },
        "id": "obbT2MLl8ctv",
        "outputId": "56845d29-606f-4241-a4f7-389f948083ae"
      },
      "outputs": [
        {
          "name": "stdout",
          "output_type": "stream",
          "text": [
            "Hello! Tusher\n",
            "Hello! Tusher\n",
            "Hello! Tusher\n",
            "Hello! Tusher\n"
          ]
        }
      ],
      "source": [
        "count = 1\n",
        "while (count <= 5):\n",
        "  count += 1\n",
        "  if (count == 4):\n",
        "    continue\n",
        "  print(\"Hello! Tusher\")\n"
      ]
    },
    {
      "cell_type": "code",
      "execution_count": null,
      "metadata": {
        "colab": {
          "base_uri": "https://localhost:8080/"
        },
        "collapsed": true,
        "id": "3YndF33Y9FY-",
        "outputId": "b3c432c3-f68c-4f45-e224-77dc441eda49"
      },
      "outputs": [
        {
          "name": "stdout",
          "output_type": "stream",
          "text": [
            "hi,Tusher\n",
            "hi,Tusher\n",
            "hi,Tusher\n",
            "inner loop terminate\n",
            "hi,Tusher\n",
            "hi,Tusher\n",
            "hi,Tusher\n",
            "inner loop terminate\n",
            "outer loop terminate\n"
          ]
        }
      ],
      "source": [
        "#nested while loop\n",
        "outer = 1\n",
        "while (outer <= 2):\n",
        "  inner = 1\n",
        "  while (inner <= 3):\n",
        "    print(\"hi,Tusher\")\n",
        "    inner += 1\n",
        "  print(\"inner loop terminate\")\n",
        "  outer += 1\n",
        "print(\"outer loop terminate\")"
      ]
    },
    {
      "cell_type": "code",
      "execution_count": null,
      "metadata": {
        "id": "nycR-8AW82N5"
      },
      "outputs": [],
      "source": [
        "count = 1\n",
        "while (count <= 5):\n",
        "  count += 1\n",
        "  if (count == 4):\n",
        "    break\n",
        "  print(\"Hello! Tusher\")"
      ]
    },
    {
      "cell_type": "code",
      "execution_count": null,
      "metadata": {
        "colab": {
          "base_uri": "https://localhost:8080/"
        },
        "collapsed": true,
        "id": "xRTJ9hg6632B",
        "outputId": "3dc68210-60c8-4d17-eaa4-95634a55f8c3"
      },
      "outputs": [
        {
          "name": "stdout",
          "output_type": "stream",
          "text": [
            "2  4  6  8  10  12  14  16  18  20  22  24  26  28  30  32  34  36  38  40  42  44  46  48  50  "
          ]
        }
      ],
      "source": [
        "count = 1\n",
        "while (count <= 50):\n",
        "  if(count % 2 == 0):\n",
        "    print(count, end=\"  \")\n",
        "  count +=1"
      ]
    },
    {
      "cell_type": "markdown",
      "metadata": {
        "id": "8E0a9llr-Occ"
      },
      "source": [
        "**FOR LOOP**"
      ]
    },
    {
      "cell_type": "code",
      "execution_count": null,
      "metadata": {
        "colab": {
          "base_uri": "https://localhost:8080/"
        },
        "collapsed": true,
        "id": "VktSD06a-inb",
        "outputId": "291fef8e-45ae-46a9-cd24-fc18a64218e9"
      },
      "outputs": [
        {
          "name": "stdout",
          "output_type": "stream",
          "text": [
            "0 1 2 3 4 5 6 7 8 9 \n",
            "\n",
            "3 4 5 6 7 8 9 \n",
            "\n",
            "1 3 5 7 9 "
          ]
        }
      ],
      "source": [
        "for i in range(10):\n",
        "  print(i, end=\" \")\n",
        "print('\\n')\n",
        "for i in range(3,10):\n",
        "  print(i, end=\" \")\n",
        "print('\\n')\n",
        "for i in range(1,10,2):\n",
        "  print(i, end=\" \")"
      ]
    },
    {
      "cell_type": "markdown",
      "metadata": {
        "id": "NfvFAzqPLSvy"
      },
      "source": [
        "**STRING**: String are immutable. Once a string is creating it can't be changed."
      ]
    },
    {
      "cell_type": "code",
      "execution_count": null,
      "metadata": {
        "colab": {
          "base_uri": "https://localhost:8080/"
        },
        "collapsed": true,
        "id": "fTmehqlBkYTa",
        "outputId": "aa5169e9-77e3-4f15-bff8-8190c6882781"
      },
      "outputs": [
        {
          "name": "stdout",
          "output_type": "stream",
          "text": [
            "P\n",
            "n\n",
            "n\n",
            "Py\n",
            "thon\n",
            "Py\n",
            "Python\n",
            "Python\n",
            "Jython\n",
            "6\n"
          ]
        }
      ],
      "source": [
        "word = 'Python'     # string indexing start at 0\n",
        "print(word[0])      # character in position 0\n",
        "print(word[5])      # character in last position\n",
        "print(word[-1])     # character in last position\n",
        "print(word[0:2])    # characters from position 0 (included) to 2 (excluded)\n",
        "print(word[2:])     # characters from position 2 (included) to the end\n",
        "print(word[:2])     # character from the beginning to position 2 (excluded)\n",
        "print(word[:2] + word[2:])\n",
        "print(word[:4] + word[4:])\n",
        "print('J' + word[1:])\n",
        "print(len(word))    #len() is a built in function that returns the length of a string"
      ]
    },
    {
      "cell_type": "code",
      "execution_count": null,
      "metadata": {
        "colab": {
          "base_uri": "https://localhost:8080/"
        },
        "id": "UEn1xu4RKFh2",
        "outputId": "242b8422-1d97-4a56-d075-dbf268a0b84d"
      },
      "outputs": [
        {
          "name": "stdout",
          "output_type": "stream",
          "text": [
            "T   a   n   j   i   r   u   l       T   u   s   h   e   r   \n",
            "\n",
            "T   a   n   j   i   r   u   l       T   u   s   h   e   r   "
          ]
        }
      ],
      "source": [
        "# iterating over string\n",
        "index = 0\n",
        "name = \"Tanjirul Tusher\"\n",
        "while index < len(name):\n",
        "  print(name[index], end='   ')\n",
        "  index += 1\n",
        "print('\\n')\n",
        "#using for loop\n",
        "\n",
        "for char in name:\n",
        "  print(char, end='   ')"
      ]
    },
    {
      "cell_type": "code",
      "execution_count": null,
      "metadata": {
        "colab": {
          "base_uri": "https://localhost:8080/"
        },
        "id": "i3OTLU9PMgC8",
        "outputId": "9481bf1f-e03a-4906-cf1d-8d45d7d561e9"
      },
      "outputs": [
        {
          "name": "stdout",
          "output_type": "stream",
          "text": [
            "enter yout name:tusher\n",
            "Hello,tusher! Nice to meet you.\n"
          ]
        }
      ],
      "source": [
        "#string concatenition\n",
        "name = input(\"enter yout name:\")\n",
        "a = \"Hello,\" + name + \"! Nice to meet you.\"\n",
        "print(a)"
      ]
    },
    {
      "cell_type": "code",
      "execution_count": null,
      "metadata": {
        "id": "_6iJH14INiyH"
      },
      "outputs": [],
      "source": [
        "#deletion\n",
        "name = \"My name is Tusher\"\n",
        "del(name)\n",
        "#print(name)\n",
        "# output: name is not defined"
      ]
    },
    {
      "cell_type": "code",
      "execution_count": null,
      "metadata": {
        "colab": {
          "base_uri": "https://localhost:8080/"
        },
        "id": "58agXqBiON4R",
        "outputId": "bd4eb313-59fd-46dc-c9dd-fda42d9ce455"
      },
      "outputs": [
        {
          "name": "stdout",
          "output_type": "stream",
          "text": [
            "Hi Hi Hi Hi "
          ]
        }
      ],
      "source": [
        "#loop in string\n",
        "for x in range(0,4,1):\n",
        "  print(\"Hi\",end=\" \")"
      ]
    },
    {
      "cell_type": "code",
      "execution_count": null,
      "metadata": {
        "colab": {
          "base_uri": "https://localhost:8080/"
        },
        "id": "MuddIbUQOran",
        "outputId": "5a024054-2217-401e-f47a-e520a773e68b"
      },
      "outputs": [
        {
          "name": "stdout",
          "output_type": "stream",
          "text": [
            "True\n",
            "False\n",
            "False\n",
            "True\n"
          ]
        }
      ],
      "source": [
        "#checking string membership\n",
        "x = \" tusher\"\n",
        "print('h' in x)\n",
        "print('h' not in x)\n",
        "print('i' in x)\n",
        "print('i' not in x)"
      ]
    },
    {
      "cell_type": "code",
      "execution_count": null,
      "metadata": {
        "colab": {
          "base_uri": "https://localhost:8080/"
        },
        "id": "Wvb4WcdJPlOr",
        "outputId": "59c780fe-5f41-47a0-bcc9-a290c22d80a9"
      },
      "outputs": [
        {
          "name": "stdout",
          "output_type": "stream",
          "text": [
            "Tanjirul Tusher\n",
            "tanjirul tusher\n",
            "TANJIRUL TUSHER\n",
            "2\n"
          ]
        }
      ],
      "source": [
        "a = \"Tanjirul Tusher\"\n",
        "b = a.lower()\n",
        "c = a.upper()\n",
        "print(a)\n",
        "print(b)\n",
        "print(c)\n",
        "print(a.count('T'))"
      ]
    },
    {
      "cell_type": "markdown",
      "metadata": {
        "id": "5GBG8OM6lXLT"
      },
      "source": [
        "**PYTHON LIST:**\n",
        "List is a collection  which can be written as a list of comma-separated values (items) between square brackets. Allows duplicate members.List is ordered and changeable.Lists might contain items of different types, but usually the items all have the same type."
      ]
    },
    {
      "cell_type": "code",
      "execution_count": null,
      "metadata": {
        "colab": {
          "base_uri": "https://localhost:8080/"
        },
        "id": "RuO7a_PnlXrm",
        "outputId": "2a0bd4d6-5d43-48ed-81fa-4ec8ae4412f1"
      },
      "outputs": [
        {
          "name": "stdout",
          "output_type": "stream",
          "text": [
            "5\n",
            "[1, 4, 9, 16, 25]\n",
            "1\n",
            "25\n",
            "[1, 4]\n",
            "[1, 4]\n",
            "[9, 16, 25]\n",
            "[9, 16, 25]\n",
            "[1, 4, 9, 16, 25, 36]\n"
          ]
        }
      ],
      "source": [
        "squares = [1, 4, 9, 16, 25]\n",
        "print(len(squares))\n",
        "print(squares)\n",
        "print(squares[0])  # indexing returns the item\n",
        "print(squares[-1])\n",
        "#list slicing\n",
        "print(squares[0:2])\n",
        "print(squares[:2])\n",
        "print(squares[2:])\n",
        "print(squares[-3:])  # slicing returns a new list\n",
        "squares.append(36)\n",
        "print(squares)"
      ]
    },
    {
      "cell_type": "code",
      "execution_count": null,
      "metadata": {
        "colab": {
          "base_uri": "https://localhost:8080/"
        },
        "id": "77rhoH9rI6vE",
        "outputId": "8c252bec-d508-46f1-feae-55c99d1e6657"
      },
      "outputs": [
        {
          "name": "stdout",
          "output_type": "stream",
          "text": [
            "['BMW', 'LAMBORGINI', 'AUDI']\n",
            "['BMW', 'LAMBORGINI', 'AUDI', 'FORD']\n",
            "['BMW', 'PORSCHE', 'AUDI', 'FORD']\n",
            "['BMW', 'LAMBORGINI', 'PORSCHE', 'AUDI', 'FORD']\n",
            "['BMW', 'LAMBORGINI', 'PORSCHE', 'AUDI', 'FORD', 'Ferrari']\n",
            "1\n"
          ]
        }
      ],
      "source": [
        "#add item in list\n",
        "cars = [\"BMW\", \"LAMBORGINI\", \"AUDI\"]\n",
        "print(cars)\n",
        "cars.append(\"FORD\")\n",
        "print(cars)\n",
        "cars[1] = \"PORSCHE\"\n",
        "print(cars)\n",
        "cars.insert(1,\"LAMBORGINI\")\n",
        "print(cars)\n",
        "cars.extend([\"Ferrari\"])\n",
        "print(cars)\n",
        "x= cars.count(\"BMW\")\n",
        "print(x)"
      ]
    },
    {
      "cell_type": "code",
      "execution_count": null,
      "metadata": {
        "colab": {
          "base_uri": "https://localhost:8080/"
        },
        "id": "NxeHvRKeJpJW",
        "outputId": "a7057326-1898-4406-c843-6f641f9ce0ab"
      },
      "outputs": [
        {
          "name": "stdout",
          "output_type": "stream",
          "text": [
            "['BMW', 'LAMBORGINI', 'PORSCHE', 'AUDI', 'FORD']\n",
            "['BMW', 'LAMBORGINI', 'PORSCHE', 'AUDI', 'FORD']\n",
            "['LAMBORGINI', 'PORSCHE', 'AUDI', 'FORD']\n",
            "['LAMBORGINI', 'AUDI', 'FORD']\n",
            "None\n",
            "['LAMBORGINI', 'PORSCHE', 'AUDI', 'FORD']\n"
          ]
        }
      ],
      "source": [
        "#remove item in cars\n",
        "cars = ['BMW', 'LAMBORGINI', 'PORSCHE', 'AUDI', 'FORD']\n",
        "cars2 = cars.copy()   #copy a list\n",
        "print(cars)\n",
        "print(cars2)\n",
        "del cars[0]\n",
        "print(cars)\n",
        "cars.pop(1)\n",
        "print(cars)\n",
        "print(cars.clear())\n",
        "cars2.remove(\"BMW\")\n",
        "print(cars2)"
      ]
    },
    {
      "cell_type": "code",
      "execution_count": null,
      "metadata": {
        "colab": {
          "base_uri": "https://localhost:8080/"
        },
        "id": "4qoXVImdNWHA",
        "outputId": "bede0461-c7d0-427b-aaab-6e321a8df06e"
      },
      "outputs": [
        {
          "name": "stdout",
          "output_type": "stream",
          "text": [
            "[1, 2, 3, 4, 5, 6, 7, 8]\n"
          ]
        }
      ],
      "source": [
        "# joining two list\n",
        "list1 = [1, 2, 3, 4]\n",
        "list2 = [5, 6, 7, 8]\n",
        "list3 = list1 + list2\n",
        "print(list3)\n",
        "list"
      ]
    },
    {
      "cell_type": "code",
      "execution_count": null,
      "metadata": {
        "colab": {
          "base_uri": "https://localhost:8080/"
        },
        "id": "_ejk05E1Sfw4",
        "outputId": "393ee8c8-1d21-48e8-bc89-15831b34bc99"
      },
      "outputs": [
        {
          "name": "stdout",
          "output_type": "stream",
          "text": [
            "['python', 'is', 'fun']\n",
            "['i', ' ', 'a', 'm', ' ', 'l', 'e', 'a', 'r', 'n', 'i', 'n', 'g', ' ', 'p', 'y', 't', 'h', 'o', 'n']\n"
          ]
        }
      ],
      "source": [
        "# convert sentence into list\n",
        "s = \"python is fun\"\n",
        "print(s.split())\n",
        "\n",
        "a = \"i am learning python\"\n",
        "print(list(a))"
      ]
    },
    {
      "cell_type": "code",
      "execution_count": null,
      "metadata": {
        "colab": {
          "base_uri": "https://localhost:8080/"
        },
        "collapsed": true,
        "id": "Wl9MzjVLqR3l",
        "outputId": "59eb8041-d9a7-4517-fa72-37b44057a6b9"
      },
      "outputs": [
        {
          "name": "stdout",
          "output_type": "stream",
          "text": [
            "Enter elements separated by space:1 2 3 4\n",
            "[1, 2, 3, 4]\n",
            "\n",
            "\n",
            "tanjirul alam tusher\n",
            "['tanjirul', 'alam', 'tusher']\n"
          ]
        }
      ],
      "source": [
        "#single line list input\n",
        "user_list = [int(x) for x in input(\"Enter elements separated by space:\").split()]\n",
        "print(user_list)\n",
        "print('\\n')\n",
        "#single line string input in list\n",
        "numbers = input().split()  # Input: \"7 13 2 10 6 -11 0\"\n",
        "print(numbers)"
      ]
    },
    {
      "cell_type": "code",
      "execution_count": null,
      "metadata": {
        "colab": {
          "base_uri": "https://localhost:8080/"
        },
        "id": "mYY_8ZGLECfc",
        "outputId": "813499d5-c31d-45a1-867e-aad276d0a948"
      },
      "outputs": [
        {
          "name": "stdout",
          "output_type": "stream",
          "text": [
            "1 2 3 4 5 "
          ]
        }
      ],
      "source": [
        "# LOOP OPERATION IN LIST\n",
        "a = [1,2,3,4,5]\n",
        "for i in a:\n",
        "  print(i, end=\" \")"
      ]
    },
    {
      "cell_type": "code",
      "execution_count": null,
      "metadata": {
        "colab": {
          "base_uri": "https://localhost:8080/"
        },
        "id": "ftkGOnP0EYGT",
        "outputId": "c7f243aa-da77-4f37-b5d9-64f9790debfd"
      },
      "outputs": [
        {
          "name": "stdout",
          "output_type": "stream",
          "text": [
            "helli tusher\n",
            "helli liza\n",
            "helli bulbul\n"
          ]
        }
      ],
      "source": [
        "b = [\"tusher\", \"liza\", \"bulbul\"]\n",
        "for i in b:\n",
        "  print('helli',i)"
      ]
    },
    {
      "cell_type": "code",
      "execution_count": null,
      "metadata": {
        "colab": {
          "base_uri": "https://localhost:8080/"
        },
        "id": "poFiui3tEoLA",
        "outputId": "0d475f5c-1cc0-416a-b242-5feb4ac5fcd6"
      },
      "outputs": [
        {
          "name": "stdout",
          "output_type": "stream",
          "text": [
            "sum: 165\n"
          ]
        }
      ],
      "source": [
        "a = [ 22, 44, 11, 34, 54]\n",
        "sum = 0\n",
        "for i in a:\n",
        "  sum = sum + i\n",
        "print(\"sum:\",sum)"
      ]
    },
    {
      "cell_type": "code",
      "execution_count": null,
      "metadata": {
        "colab": {
          "base_uri": "https://localhost:8080/"
        },
        "id": "zgC9i6EbE_Pa",
        "outputId": "1277e386-d167-4fcc-be5d-e470313b1fae"
      },
      "outputs": [
        {
          "name": "stdout",
          "output_type": "stream",
          "text": [
            "largest number in this array is 54\n"
          ]
        }
      ],
      "source": [
        "a = [ 22, 44, 11, 34, 54]\n",
        "largest = 1\n",
        "for i in a:\n",
        "  if i > largest:\n",
        "    largest = i\n",
        "print(\"largest number in this array is\",i)"
      ]
    },
    {
      "cell_type": "code",
      "execution_count": null,
      "metadata": {
        "colab": {
          "base_uri": "https://localhost:8080/"
        },
        "id": "HTpE5h3HFeYR",
        "outputId": "d797dcd1-9bea-48d1-b00f-b3a3f5b09c49"
      },
      "outputs": [
        {
          "name": "stdout",
          "output_type": "stream",
          "text": [
            "lily, rose, orchid\n"
          ]
        }
      ],
      "source": [
        "flowers = [\"lily\", \"rose\", \"orchid\"]\n",
        "for i, x in enumerate(flowers):\n",
        "    if i == len(flowers) - 1:\n",
        "        print(x)\n",
        "    else:\n",
        "        print(x, end=\", \")"
      ]
    },
    {
      "cell_type": "code",
      "execution_count": null,
      "metadata": {
        "colab": {
          "base_uri": "https://localhost:8080/"
        },
        "id": "BF0YMoPVF702",
        "outputId": "e5fd5d7f-fe97-4445-fa00-acbae6e9b5db"
      },
      "outputs": [
        {
          "name": "stdout",
          "output_type": "stream",
          "text": [
            "[1, 3, 6, 19, 55, 99]\n",
            "[99, 55, 19, 6, 3, 1]\n"
          ]
        }
      ],
      "source": [
        "#list method\n",
        "list1 = [6,3,19,55,1,99]\n",
        "list1.sort()\n",
        "print(list1)\n",
        "\n",
        "list2 = [1, 3, 6, 19, 55, 99]\n",
        "list2.reverse()\n",
        "print(list2)\n",
        "\n"
      ]
    },
    {
      "cell_type": "code",
      "execution_count": null,
      "metadata": {
        "colab": {
          "base_uri": "https://localhost:8080/"
        },
        "id": "_tympgGzAZg6",
        "outputId": "1ecfb40a-8984-412e-bff6-560ab874d9c6"
      },
      "outputs": [
        {
          "name": "stdout",
          "output_type": "stream",
          "text": [
            "[[1, 5, 9], [2, 6, 10], [3, 7, 11], [4, 8, 12]]\n"
          ]
        }
      ],
      "source": [
        "#transpose matrix\n",
        "matrix = [\n",
        "    [1, 2, 3, 4],\n",
        "    [5, 6, 7, 8],\n",
        "    [9, 10, 11, 12],\n",
        "]\n",
        "print([[row[i] for row in matrix] for i in range(4)])"
      ]
    },
    {
      "cell_type": "code",
      "execution_count": null,
      "metadata": {
        "colab": {
          "base_uri": "https://localhost:8080/"
        },
        "id": "tVPFhWopA1l0",
        "outputId": "d910cb4c-a61e-4fc2-b3bd-d96b98f8fbe8"
      },
      "outputs": [
        {
          "name": "stdout",
          "output_type": "stream",
          "text": [
            "[[1, 5, 9], [2, 6, 10], [3, 7, 11], [4, 8, 12]]\n"
          ]
        }
      ],
      "source": [
        "transposed = []\n",
        "for i in range(4):\n",
        "    transposed.append([row[i] for row in matrix])\n",
        "print(transposed)"
      ]
    },
    {
      "cell_type": "markdown",
      "metadata": {
        "id": "iuF4tmTLXiyH"
      },
      "source": [
        "**PYTHON TUPLE**: Tuple is a collection which is ordered and unchangeable. Allows duplicate members. Tuples are used to store multiple items in a single variable. Tuples are written with round brackets. Tupe item can be any data type."
      ]
    },
    {
      "cell_type": "code",
      "execution_count": null,
      "metadata": {
        "id": "_sf0fQzKX0cd"
      },
      "outputs": [],
      "source": [
        "mytuple = (\"apple\", \"banana\", \"cherry\")\n",
        "print(mytuple)\n",
        "mtuple = (\"apple\",)#One item tuple, remember the comma other it is act as string\n",
        "print(type(mtuple))\n",
        "print(mytuple[1]) # access typle  print(mytuple[-1]) Negative indexing means start from the end.\n"
      ]
    },
    {
      "cell_type": "code",
      "source": [
        "#One item tuple, remember the comma:\n",
        "\n",
        "thistuple = (\"apple\",)\n",
        "print(type(thistuple))\n",
        "\n",
        "#NOT a tuple\n",
        "thistuple = (\"apple\")\n",
        "print(type(thistuple))"
      ],
      "metadata": {
        "colab": {
          "base_uri": "https://localhost:8080/"
        },
        "id": "19_chNpWQR14",
        "outputId": "f15f4e9f-1678-4b2e-9d06-18204ddefb64"
      },
      "execution_count": null,
      "outputs": [
        {
          "output_type": "stream",
          "name": "stdout",
          "text": [
            "<class 'tuple'>\n",
            "<class 'str'>\n"
          ]
        }
      ]
    },
    {
      "cell_type": "code",
      "source": [
        "#Convert the tuple into a list to be able to change it:\n",
        "\n",
        "x = (\"apple\", \"banana\", \"cherry\")\n",
        "y = list(x)\n",
        "y[1] = \"kiwi\"\n",
        "x = tuple(y)\n",
        "y.append(\"orange\")\n",
        "x = tuple(y)\n",
        "print(x)"
      ],
      "metadata": {
        "colab": {
          "base_uri": "https://localhost:8080/"
        },
        "id": "POaMaBhWQphB",
        "outputId": "0dbbac9c-b6b1-4db5-f96a-1cdc7822614f"
      },
      "execution_count": null,
      "outputs": [
        {
          "output_type": "stream",
          "name": "stdout",
          "text": [
            "('apple', 'kiwi', 'cherry', 'orange')\n"
          ]
        }
      ]
    },
    {
      "cell_type": "code",
      "source": [
        "#loop in tuple\n",
        "a = (\"apple\", \"banana\", \"cherry\")\n",
        "for x in a:\n",
        "  print(x)"
      ],
      "metadata": {
        "colab": {
          "base_uri": "https://localhost:8080/"
        },
        "id": "PVCPVOAKRKE_",
        "outputId": "5cbdaf06-11c6-46cb-ccb4-c0adb1b21d0a"
      },
      "execution_count": null,
      "outputs": [
        {
          "output_type": "stream",
          "name": "stdout",
          "text": [
            "apple\n",
            "banana\n",
            "cherry\n"
          ]
        }
      ]
    },
    {
      "cell_type": "code",
      "source": [
        "#Join two tuples:\n",
        "\n",
        "tuple1 = (\"a\", \"b\" , \"c\")\n",
        "tuple2 = (1, 2, 3)\n",
        "\n",
        "tuple3 = tuple1 + tuple2\n",
        "print(tuple3)"
      ],
      "metadata": {
        "colab": {
          "base_uri": "https://localhost:8080/"
        },
        "id": "EhuRUXcYRXD2",
        "outputId": "73136a2e-90ed-42d3-fe84-70b3753b7463"
      },
      "execution_count": null,
      "outputs": [
        {
          "output_type": "stream",
          "name": "stdout",
          "text": [
            "('a', 'b', 'c', 1, 2, 3)\n"
          ]
        }
      ]
    },
    {
      "cell_type": "markdown",
      "metadata": {
        "id": "F7N0v_dKX2OD"
      },
      "source": [
        "**PYTHON SET**: Set is a collection which is unordered, unchangeable*, and unindexed. No duplicate members. Sets are written with curly brackets. Set items can be of any data type."
      ]
    },
    {
      "cell_type": "code",
      "execution_count": null,
      "metadata": {
        "id": "HohXrNrfX9em",
        "colab": {
          "base_uri": "https://localhost:8080/"
        },
        "outputId": "d02e0775-0881-4550-9db3-eb4f177ff21f"
      },
      "outputs": [
        {
          "output_type": "stream",
          "name": "stdout",
          "text": [
            "{'cherry', 'banana', 'apple'}\n",
            "3\n",
            "<class 'set'>\n",
            "cherry\n",
            "banana\n",
            "apple\n",
            "{'orange', 'cherry', 'banana', 'apple'}\n",
            "True\n",
            "orange\n",
            "cherry\n",
            "banana\n",
            "apple\n",
            "{'orange', 'cherry', 'apple'}\n"
          ]
        }
      ],
      "source": [
        "\n",
        "myset = {\"apple\", \"banana\", \"cherry\"}\n",
        "print(myset)\n",
        "print(len(myset))\n",
        "print(type(myset))\n",
        "for x in myset:\n",
        "  print(x)\n",
        "\n",
        "# add item in set\n",
        "myset.add(\"orange\")\n",
        "print(myset)\n",
        "\n",
        "#we cannot access items in a set by referring to an index or a key.\n",
        "#But we can loop through the set items using a for loop, or ask if a specified value is present in a set, by using the in keyword.\n",
        "print(\"banana\" in myset)\n",
        "for x in myset:\n",
        "  print(x)\n",
        "\n",
        "# romove item form set\n",
        "myset.remove(\"banana\")\n",
        "print(myset)"
      ]
    },
    {
      "cell_type": "code",
      "source": [
        "#join set\n",
        "set1 = {\"a\", \"b\", \"c\"}\n",
        "set2 = {1, 2, 3}\n",
        "\n",
        "set3 = set1.union(set2)\n",
        "print(set3)\n",
        "\n",
        "set4 = set1 | set2\n",
        "print(set4)"
      ],
      "metadata": {
        "colab": {
          "base_uri": "https://localhost:8080/"
        },
        "id": "TTpL2Xc4S2Ix",
        "outputId": "d2b20ad4-19e9-4dd2-f209-3764d7a9866a"
      },
      "execution_count": null,
      "outputs": [
        {
          "output_type": "stream",
          "name": "stdout",
          "text": [
            "{'b', 1, 2, 3, 'a', 'c'}\n",
            "{'b', 1, 2, 3, 'a', 'c'}\n"
          ]
        }
      ]
    },
    {
      "cell_type": "markdown",
      "metadata": {
        "id": "l5mtK6VJTX2Y"
      },
      "source": [
        "**PYTHON DICTONARIES**: Dictionary is a collection which is ordered** and changeable. No duplicate members."
      ]
    },
    {
      "cell_type": "code",
      "execution_count": null,
      "metadata": {
        "colab": {
          "base_uri": "https://localhost:8080/"
        },
        "id": "wGot2GXATgTf",
        "outputId": "687b2b6a-1876-4571-d4a5-5e4c8bd1af15"
      },
      "outputs": [
        {
          "name": "stdout",
          "output_type": "stream",
          "text": [
            "{'brand': 'Ford', 'model': 'Mustang', 'year': 1964}\n",
            "Ford\n",
            "Mustang\n"
          ]
        }
      ],
      "source": [
        "thisdict = {\n",
        "  \"brand\": \"Ford\",\n",
        "  \"model\": \"Mustang\",\n",
        "  \"year\": 1964\n",
        "}\n",
        "print(thisdict)\n",
        "print(thisdict[\"brand\"])\n",
        "x = thisdict.get(\"model\")\n",
        "print(x)"
      ]
    },
    {
      "cell_type": "code",
      "execution_count": null,
      "metadata": {
        "colab": {
          "base_uri": "https://localhost:8080/"
        },
        "id": "s4JQwkSQXMZe",
        "outputId": "e6590bb4-fb3a-4e49-d34c-b8c2192432d2"
      },
      "outputs": [
        {
          "name": "stdout",
          "output_type": "stream",
          "text": [
            "{'brand': 'Ford', 'model': 'Mustang', 'year': 1964}\n",
            "Ford\n",
            "dict_keys(['brand', 'model', 'year'])\n",
            "dict_values(['Ford', 'Mustang', 1964])\n",
            "dict_keys(['brand', 'model', 'year', 'color'])\n",
            "dict_values(['Ford', 'Mustang', 1964, 'white'])\n",
            "{'brand': 'Ford', 'model': 'Mustang', 'year': 1964}\n",
            "{'brand': 'Ford', 'year': 1964}\n",
            "brand\n",
            "year\n",
            "Ford\n",
            "1964\n",
            "{'brand': 'Ford', 'year': 1964}\n"
          ]
        }
      ],
      "source": [
        "#The keys() method will return a list of all the keys in the dictionary.\n",
        "car = {\n",
        "\"brand\": \"Ford\",\n",
        "\"model\": \"Mustang\",\n",
        "\"year\": 1964\n",
        "}\n",
        "print(car)\n",
        "\n",
        "z = car[\"brand\"] #access item (z = thisdict.get(\"model\"))\n",
        "print(z)\n",
        "\n",
        "x = car.keys()\n",
        "y = car.values()\n",
        "print(x) #before the change\n",
        "print(y)\n",
        "\n",
        "car[\"color\"] = \"white\" #add items in dictonary\n",
        "print(x) #after the change\n",
        "y = car.values()\n",
        "print(y)\n",
        "car.pop(\"model\") #remove item in dictonary\n",
        "print(thisdict)\n",
        "car.popitem() #The popitem() method removes the last inserted item\n",
        "print(car)\n",
        "\n",
        "#loop in dictonaries\n",
        "for x in car.keys():\n",
        "  print(x)\n",
        "for x in car.values():\n",
        "  print(x)\n",
        "\n",
        "mydict = car.copy()\n",
        "print(mydict)"
      ]
    },
    {
      "cell_type": "code",
      "execution_count": null,
      "metadata": {
        "id": "DaebSx5IXZyW"
      },
      "outputs": [],
      "source": [
        "# Initialize an empty dictionary\n",
        "user_dict = {}\n",
        "# Loop to get key-value pairs from the user\n",
        "while True:\n",
        "    # Get key from the user\n",
        "    key = input(\"Enter the key (or 'done' to finish): \")\n",
        "\n",
        "    if key.lower() == 'done':\n",
        "        break\n",
        "    # Get value from the user\n",
        "    value = input(f\"Enter the value for '{key}': \")\n",
        "\n",
        "    # Store the key-value pair in the dictionary\n",
        "    user_dict[key] = value\n",
        "\n",
        "# Display the resulting dictionary\n",
        "print(\"The dictionary you created is:\")\n",
        "print(user_dict)"
      ]
    },
    {
      "cell_type": "markdown",
      "metadata": {
        "id": "zXIc8_HaXVVI"
      },
      "source": [
        "**PYTHON FUNCTION**: A function is a block of code which only runs when it is called. We can pass data, known as parameters, into a function. A function can return data as a result. In Python a function is defined using the \"def\" keyword."
      ]
    },
    {
      "cell_type": "code",
      "execution_count": null,
      "metadata": {
        "colab": {
          "base_uri": "https://localhost:8080/"
        },
        "id": "wWB22DERZEkx",
        "outputId": "9887263c-9011-4ea0-9f5e-1bf3ed9d273f"
      },
      "outputs": [
        {
          "name": "stdout",
          "output_type": "stream",
          "text": [
            "hello tusher\n",
            "hello tusher\n"
          ]
        }
      ],
      "source": [
        "def my_function():\n",
        "  print(\"hello tusher\")\n",
        "my_function()\n",
        "my_function()"
      ]
    },
    {
      "cell_type": "code",
      "execution_count": null,
      "metadata": {
        "colab": {
          "base_uri": "https://localhost:8080/"
        },
        "id": "CLpZeq-XZLtN",
        "outputId": "e51cfbd9-64e9-42d9-b512-721d4b18589d"
      },
      "outputs": [
        {
          "name": "stdout",
          "output_type": "stream",
          "text": [
            "20\n"
          ]
        }
      ],
      "source": [
        "def compare(x,y):\n",
        "  max = 0\n",
        "  if x>y:\n",
        "    max=x\n",
        "  else:\n",
        "    max=y\n",
        "  return max\n",
        "print(compare(10,20))"
      ]
    },
    {
      "cell_type": "code",
      "execution_count": null,
      "metadata": {
        "colab": {
          "base_uri": "https://localhost:8080/"
        },
        "id": "wCnPY-oEZTPk",
        "outputId": "8b504eac-b8fe-48ec-a0d6-f81b11ffa5ee"
      },
      "outputs": [
        {
          "name": "stdout",
          "output_type": "stream",
          "text": [
            "hello alice\n",
            "hello bob\n",
            "hello carol\n"
          ]
        }
      ],
      "source": [
        "def my_function(fname):\n",
        "  print(\"hello\",fname)\n",
        "my_function(\"alice\")\n",
        "my_function(\"bob\")\n",
        "my_function(\"carol\")"
      ]
    },
    {
      "cell_type": "code",
      "execution_count": null,
      "metadata": {
        "colab": {
          "base_uri": "https://localhost:8080/"
        },
        "id": "RfVKgPhUZXJI",
        "outputId": "74a185dc-304a-4242-eeb3-c7b7ee431984"
      },
      "outputs": [
        {
          "output_type": "stream",
          "name": "stdout",
          "text": [
            "alice goes to shopping complex\n"
          ]
        }
      ],
      "source": [
        "def my_function(name,place):           # a function must be called with the correct nymber of arguments otherwise we will get an error\n",
        "  print(name,\"goes to\",place)\n",
        "my_function(\"alice\",\"shopping complex\")"
      ]
    },
    {
      "cell_type": "markdown",
      "source": [
        "**UNKNOWN NUMBER OF ARGUMENTS** ( *arg ): IF we don't know how many arguments will be passed to our function, then we can add an asteric ( * ) before the parameter number in the function definition."
      ],
      "metadata": {
        "id": "MuIiMufu6Uxb"
      }
    },
    {
      "cell_type": "code",
      "execution_count": null,
      "metadata": {
        "colab": {
          "base_uri": "https://localhost:8080/"
        },
        "id": "n3eJwDUlHNS4",
        "outputId": "71c6bca3-2df1-49be-e24e-b3c720977675"
      },
      "outputs": [
        {
          "name": "stdout",
          "output_type": "stream",
          "text": [
            "the first child is alice\n"
          ]
        }
      ],
      "source": [
        "#UNKNOWN NUMBER OF ARGUMENTS ( *arg )\n",
        "def my_function(*kids):\n",
        "  print(\"the first child is\",kids[0])\n",
        "my_function(\"alice\",\"bob\",\"carol\")"
      ]
    },
    {
      "cell_type": "code",
      "execution_count": null,
      "metadata": {
        "colab": {
          "base_uri": "https://localhost:8080/"
        },
        "id": "-mHl3U52FXOm",
        "outputId": "0f33c5fe-e911-416f-a970-a1322227f648"
      },
      "outputs": [
        {
          "name": "stdout",
          "output_type": "stream",
          "text": [
            "python is fun "
          ]
        }
      ],
      "source": [
        "def display(*msg):\n",
        "  for x in msg:\n",
        "    print(x, end=\" \")\n",
        "display(\"python\", \"is\", \"fun\")"
      ]
    },
    {
      "cell_type": "code",
      "execution_count": null,
      "metadata": {
        "colab": {
          "base_uri": "https://localhost:8080/"
        },
        "id": "_xTlKRfoGFYv",
        "outputId": "22b095c1-439d-4a0f-f856-1822044a5915"
      },
      "outputs": [
        {
          "name": "stdout",
          "output_type": "stream",
          "text": [
            "python\n",
            "('is', 'fun')\n"
          ]
        }
      ],
      "source": [
        "def display(msg1,*msg):\n",
        "  print(msg1)\n",
        "  print(msg)\n",
        "display(\"python\", \"is\", \"fun\")"
      ]
    },
    {
      "cell_type": "markdown",
      "source": [
        "**KEYWORDS ARGUMENTS:** We can also sends arguments with key = value syntax. In this way order of the arguments does not matter."
      ],
      "metadata": {
        "id": "h4SnYNoB6rWU"
      }
    },
    {
      "cell_type": "code",
      "source": [
        "def my_function(child1, child2, child3):\n",
        "  print(\"the youngest child is\",child3)\n",
        "\n",
        "my_function(child1 = 'david', child2 = 'alice', child3 = 'bob')"
      ],
      "metadata": {
        "colab": {
          "base_uri": "https://localhost:8080/"
        },
        "id": "gKXH1pFF6rwF",
        "outputId": "34688215-dcdc-4e50-d984-e7e8cede3bfe"
      },
      "execution_count": null,
      "outputs": [
        {
          "output_type": "stream",
          "name": "stdout",
          "text": [
            "the youngest child is bob\n"
          ]
        }
      ]
    },
    {
      "cell_type": "markdown",
      "source": [
        "**UNKNOWN NUMBER OF KEYWORDS ARGUMENTS:** If we do not know how many keyword arguments that will be passed into our function, add two asterisk: ** before the parameter name in the function definition."
      ],
      "metadata": {
        "id": "q404bcIt7tg5"
      }
    },
    {
      "cell_type": "code",
      "execution_count": null,
      "metadata": {
        "colab": {
          "base_uri": "https://localhost:8080/"
        },
        "id": "RSjoGpU2ZfJb",
        "outputId": "10b65236-164b-4df0-dc57-1d71139c667a"
      },
      "outputs": [
        {
          "name": "stdout",
          "output_type": "stream",
          "text": [
            "Car name is BMW .Car model is Aventador\n"
          ]
        }
      ],
      "source": [
        "#unknown number of keyward argument\n",
        "def my_function(**car):\n",
        "  print(\"Car name is\",car[\"name\"],\".\",end=\"\")\n",
        "  print(\"Car model is\",car[\"model\"])\n",
        "my_function(name=\"BMW\",model=\"Aventador\")\n"
      ]
    },
    {
      "cell_type": "markdown",
      "source": [
        "**Default Parameter Value:** In functions parameters list we can specify a default values ( s ) for one or more arguments. A default value can be written as \"parameter_name = value \""
      ],
      "metadata": {
        "id": "TIvF74tx8d6g"
      }
    },
    {
      "cell_type": "code",
      "source": [
        "def square(x, y=2):\n",
        "  return (x*x + 2*x*y + y*y)\n",
        "\n",
        "print('the square of the sum of 2 and 2 is:',square(2))\n",
        "print('the square of the sum of 4 and 2 is:',square(4))"
      ],
      "metadata": {
        "colab": {
          "base_uri": "https://localhost:8080/"
        },
        "id": "IRGdmJHS8-NG",
        "outputId": "8f9b4292-cb9d-4992-fdbd-5963cd26813b"
      },
      "execution_count": null,
      "outputs": [
        {
          "output_type": "stream",
          "name": "stdout",
          "text": [
            "the square of the sum of 2 and 2 is: 16\n",
            "the square of the sum of 4 and 2 is: 36\n"
          ]
        }
      ]
    },
    {
      "cell_type": "markdown",
      "source": [
        "**Passing a List as an Argument**"
      ],
      "metadata": {
        "id": "1e5CrkEN-B3C"
      }
    },
    {
      "cell_type": "code",
      "source": [
        "def my_function(food):\n",
        "  for x in food:\n",
        "    print(x)\n",
        "\n",
        "fruits = [\"apple\", \"banana\", \"cherry\"]\n",
        "\n",
        "my_function(fruits)"
      ],
      "metadata": {
        "colab": {
          "base_uri": "https://localhost:8080/"
        },
        "id": "1ojsV22g-EXE",
        "outputId": "4f0ef6c7-71c7-4c6a-aa94-5a2f09557500"
      },
      "execution_count": null,
      "outputs": [
        {
          "output_type": "stream",
          "name": "stdout",
          "text": [
            "apple\n",
            "banana\n",
            "cherry\n"
          ]
        }
      ]
    },
    {
      "cell_type": "markdown",
      "source": [
        "**Passing the function as an argument**"
      ],
      "metadata": {
        "id": "-yTf3mx792X5"
      }
    },
    {
      "cell_type": "code",
      "source": [
        "def shout(text):\n",
        "    return text.upper()\n",
        "\n",
        "def whisper(text):\n",
        "    return text.lower()\n",
        "\n",
        "def greet(func):\n",
        "    # storing the function in a variable\n",
        "    greeting = func(\"\"\"Hi, I am created by a function passed as an argument.\"\"\")\n",
        "    print (greeting)\n",
        "\n",
        "greet(shout)\n",
        "greet(whisper)\n"
      ],
      "metadata": {
        "colab": {
          "base_uri": "https://localhost:8080/"
        },
        "id": "XsryO6_D-CwQ",
        "outputId": "deea0b4f-31a0-4dcf-dcd1-a29e73ad2762"
      },
      "execution_count": null,
      "outputs": [
        {
          "output_type": "stream",
          "name": "stdout",
          "text": [
            "HI, I AM CREATED BY A FUNCTION PASSED AS AN ARGUMENT.\n",
            "hi, i am created by a function passed as an argument.\n"
          ]
        }
      ]
    },
    {
      "cell_type": "markdown",
      "source": [
        "**Returning the function from another function**"
      ],
      "metadata": {
        "id": "ikMXiKT7-0VN"
      }
    },
    {
      "cell_type": "code",
      "source": [
        "def create_adder(x):\n",
        "    def adder(y):\n",
        "        return x+y\n",
        "\n",
        "    return adder\n",
        "\n",
        "add_15 = create_adder(15)\n",
        "\n",
        "print(add_15(10))"
      ],
      "metadata": {
        "colab": {
          "base_uri": "https://localhost:8080/"
        },
        "id": "Eul1E6KD-8sE",
        "outputId": "972076b3-6830-48ea-c8fd-25df5dd0f229"
      },
      "execution_count": null,
      "outputs": [
        {
          "output_type": "stream",
          "name": "stdout",
          "text": [
            "25\n"
          ]
        }
      ]
    },
    {
      "cell_type": "code",
      "source": [
        "def add(x, y):\n",
        "    return x + y\n",
        "\n",
        "def calculate(func, x, y):\n",
        "    return func(x, y)\n",
        "\n",
        "result = calculate(add, 4, 6)\n",
        "print(result)  # prints 10"
      ],
      "metadata": {
        "colab": {
          "base_uri": "https://localhost:8080/"
        },
        "id": "jQgT7dlEA0V9",
        "outputId": "df7f7038-6121-41c1-dc33-9260882bf046"
      },
      "execution_count": null,
      "outputs": [
        {
          "output_type": "stream",
          "name": "stdout",
          "text": [
            "10\n"
          ]
        }
      ]
    },
    {
      "cell_type": "markdown",
      "source": [
        "**Return a Function as a Value**"
      ],
      "metadata": {
        "id": "Hg6RbMLNBCEj"
      }
    },
    {
      "cell_type": "code",
      "source": [
        "def greeting(name):\n",
        "    def hello():\n",
        "        return \"Hello, \" + name + \"!\"\n",
        "    return hello\n",
        "\n",
        "greet = greeting(\"Tusher\")\n",
        "print(greet())  # prints \"Hello, Tusher!\""
      ],
      "metadata": {
        "colab": {
          "base_uri": "https://localhost:8080/"
        },
        "id": "ATkxMxpDBEgZ",
        "outputId": "9566fac5-b24d-445b-aa64-f14fcfb764a9"
      },
      "execution_count": null,
      "outputs": [
        {
          "output_type": "stream",
          "name": "stdout",
          "text": [
            "Hello, Atlantis!\n"
          ]
        }
      ]
    },
    {
      "cell_type": "markdown",
      "source": [
        "**PYTHON DECORATORS**\n",
        "\n",
        "In Python, a decorator is a design pattern that allows you to modify the functionality of a function by wrapping it in another function.\n",
        "\n",
        "The outer function is called the decorator, which takes the original function as an argument and returns a modified version of it."
      ],
      "metadata": {
        "id": "tghDR_ub_WoA"
      }
    },
    {
      "cell_type": "code",
      "source": [
        "def make_pretty(func):\n",
        "    def inner():\n",
        "        print(\"I got decorated\")\n",
        "        func()\n",
        "    return inner\n",
        "def ordinary():\n",
        "    print(\"I am ordinary\")        # Output: I am ordinary\n",
        "\n",
        "# decorate the ordinary function\n",
        "decorated_func = make_pretty(ordinary)\n",
        "\n",
        "# call the decorated function\n",
        "decorated_func()"
      ],
      "metadata": {
        "colab": {
          "base_uri": "https://localhost:8080/"
        },
        "id": "j4KIphpD_bH3",
        "outputId": "b91e6db9-0320-4bec-ba53-c8ef28b3c8e3"
      },
      "execution_count": null,
      "outputs": [
        {
          "output_type": "stream",
          "name": "stdout",
          "text": [
            "I got decorated\n",
            "I am ordinary\n"
          ]
        }
      ]
    },
    {
      "cell_type": "code",
      "source": [
        "# symbol with decorator @\n",
        "def make_pretty(func):\n",
        "\n",
        "    def inner():\n",
        "        print(\"I got decorated\")\n",
        "        func()\n",
        "    return inner\n",
        "\n",
        "@make_pretty\n",
        "def ordinary():\n",
        "    print(\"I am ordinary\")\n",
        "\n",
        "ordinary()"
      ],
      "metadata": {
        "colab": {
          "base_uri": "https://localhost:8080/"
        },
        "id": "tFyWEb41CNkb",
        "outputId": "cf7f1288-460a-4fdf-f088-96dbf4812e44"
      },
      "execution_count": null,
      "outputs": [
        {
          "output_type": "stream",
          "name": "stdout",
          "text": [
            "I got decorated\n",
            "I am ordinary\n"
          ]
        }
      ]
    },
    {
      "cell_type": "code",
      "source": [
        "def smart_divide(func):\n",
        "    def inner(a, b):\n",
        "        print(\"I am going to divide\", a, \"and\", b)\n",
        "        if b == 0:\n",
        "            print(\"Whoops! cannot divide\")\n",
        "            return\n",
        "\n",
        "        return func(a, b)\n",
        "    return inner\n",
        "\n",
        "@smart_divide\n",
        "def divide(a, b):\n",
        "    print(a/b)\n",
        "\n",
        "divide(2,5)\n",
        "\n",
        "divide(2,0)"
      ],
      "metadata": {
        "colab": {
          "base_uri": "https://localhost:8080/"
        },
        "id": "aqTvIYD1DB7i",
        "outputId": "c5d6cff2-a844-461d-e321-8bcbef3db918"
      },
      "execution_count": null,
      "outputs": [
        {
          "output_type": "stream",
          "name": "stdout",
          "text": [
            "I am going to divide 2 and 5\n",
            "0.4\n",
            "I am going to divide 2 and 0\n",
            "Whoops! cannot divide\n"
          ]
        }
      ]
    },
    {
      "cell_type": "code",
      "source": [
        "# chaining decorator in python\n",
        "def star(func):\n",
        "    def inner(*args, **kwargs):\n",
        "        print(\"*\" * 15)\n",
        "        func(*args, **kwargs)\n",
        "        print(\"*\" * 15)\n",
        "    return inner\n",
        "\n",
        "\n",
        "def percent(func):\n",
        "    def inner(*args, **kwargs):\n",
        "        print(\"%\" * 15)\n",
        "        func(*args, **kwargs)\n",
        "        print(\"%\" * 15)\n",
        "    return inner\n",
        "\n",
        "\n",
        "@star\n",
        "@percent\n",
        "def printer(msg):\n",
        "    print(msg)\n",
        "\n",
        "printer(\"Hello\")"
      ],
      "metadata": {
        "colab": {
          "base_uri": "https://localhost:8080/"
        },
        "id": "rVMCt1AHDYbO",
        "outputId": "20cf7338-fec1-4c36-aa0b-8e74ac9aea99"
      },
      "execution_count": null,
      "outputs": [
        {
          "output_type": "stream",
          "name": "stdout",
          "text": [
            "***************\n",
            "%%%%%%%%%%%%%%%\n",
            "Hello\n",
            "%%%%%%%%%%%%%%%\n",
            "***************\n"
          ]
        }
      ]
    },
    {
      "cell_type": "markdown",
      "source": [
        "**Python Lambda:** A lambda function is a small anonymous function.A lambda function can take any number of arguments, but can only have one expression. syntax: lambda arguments : expression"
      ],
      "metadata": {
        "id": "cbblCcW4A0gs"
      }
    },
    {
      "cell_type": "code",
      "source": [
        "greet = lambda: print('hello, Tuhser')\n",
        "greet()"
      ],
      "metadata": {
        "colab": {
          "base_uri": "https://localhost:8080/"
        },
        "id": "ydOi3iysEZuj",
        "outputId": "d08aeb8b-3842-413e-f16b-f7dd27ea3d9d"
      },
      "execution_count": null,
      "outputs": [
        {
          "output_type": "stream",
          "name": "stdout",
          "text": [
            "hello, Tuhser\n"
          ]
        }
      ]
    },
    {
      "cell_type": "code",
      "source": [
        "x = lambda a : a + 10\n",
        "print(x(5))"
      ],
      "metadata": {
        "id": "SKkHtkucBZC8",
        "colab": {
          "base_uri": "https://localhost:8080/"
        },
        "outputId": "dbaadd69-77cf-4e0d-e95d-9d973a3818e4"
      },
      "execution_count": null,
      "outputs": [
        {
          "output_type": "stream",
          "name": "stdout",
          "text": [
            "15\n"
          ]
        }
      ]
    },
    {
      "cell_type": "code",
      "source": [
        "x = lambda a, b : a * b\n",
        "print(x(5, 6))"
      ],
      "metadata": {
        "id": "iisYngvRBaHZ",
        "colab": {
          "base_uri": "https://localhost:8080/"
        },
        "outputId": "2cce6976-766e-4a50-a8d7-8a5b70c9e9ee"
      },
      "execution_count": null,
      "outputs": [
        {
          "output_type": "stream",
          "name": "stdout",
          "text": [
            "30\n"
          ]
        }
      ]
    },
    {
      "cell_type": "code",
      "source": [
        "x = lambda a, b, c : a + b + c\n",
        "print(x(5, 6, 2))"
      ],
      "metadata": {
        "id": "NgTyOLzfBc1V",
        "colab": {
          "base_uri": "https://localhost:8080/"
        },
        "outputId": "556e69cb-9f1f-4fa7-a00c-50a714642473"
      },
      "execution_count": null,
      "outputs": [
        {
          "output_type": "stream",
          "name": "stdout",
          "text": [
            "13\n"
          ]
        }
      ]
    },
    {
      "cell_type": "code",
      "source": [
        "def myfunc(n):\n",
        "  return lambda a : a * n\n",
        "\n",
        "mydoubler = myfunc(2)\n",
        "mytripler = myfunc(3)\n",
        "\n",
        "print(mydoubler(11))\n",
        "print(mytripler(11))"
      ],
      "metadata": {
        "id": "btuVQGARBsLg",
        "colab": {
          "base_uri": "https://localhost:8080/"
        },
        "outputId": "4382c30a-7fe3-4e1a-88f2-c37c6836d04f"
      },
      "execution_count": null,
      "outputs": [
        {
          "output_type": "stream",
          "name": "stdout",
          "text": [
            "22\n",
            "33\n"
          ]
        }
      ]
    },
    {
      "cell_type": "markdown",
      "source": [
        "**Python Try Except:**  \n",
        "The try block lets you test a block of code for errors.\n",
        "\n",
        "The except block lets you handle the error.\n",
        "\n",
        "The else block lets you execute code when there is no error.\n",
        "\n",
        "The finally block lets you execute code, regardless of the result of the try- and except blocks."
      ],
      "metadata": {
        "id": "Bm9jIDUsCNj_"
      }
    },
    {
      "cell_type": "code",
      "source": [
        "def divide_numbers(numerator, denominator):\n",
        "    try:\n",
        "        result = numerator / denominator\n",
        "    except ZeroDivisionError:\n",
        "        print(\"Error: Cannot divide by zero!\")\n",
        "        result = None\n",
        "    except TypeError:\n",
        "        print(\"Error: Both numerator and denominator must be numbers!\")\n",
        "        result = None\n",
        "    except Exception as e:\n",
        "        print(f\"An unexpected error occurred: {e}\")\n",
        "        result = None\n",
        "    else:\n",
        "        print(f\"The result is {result}\")\n",
        "    finally:\n",
        "        print(\"Execution complete.\")\n",
        "    return result\n",
        "\n",
        "# Example usage:\n",
        "divide_numbers(10, 2)  # Expected output: The result is 5.0\n",
        "divide_numbers(10, 0)  # Expected output: Error: Cannot divide by zero!\n",
        "divide_numbers(10, 'a')  # Expected output: Error: Both numerator and denominator must be numbers!\n"
      ],
      "metadata": {
        "colab": {
          "base_uri": "https://localhost:8080/"
        },
        "id": "3ShhOsYKCOAa",
        "outputId": "2b702289-90e7-4413-e1e5-d58d8ce703ab"
      },
      "execution_count": null,
      "outputs": [
        {
          "output_type": "stream",
          "name": "stdout",
          "text": [
            "The result is 5.0\n",
            "Execution complete.\n",
            "Error: Cannot divide by zero!\n",
            "Execution complete.\n",
            "Error: Both numerator and denominator must be numbers!\n",
            "Execution complete.\n"
          ]
        }
      ]
    },
    {
      "cell_type": "markdown",
      "source": [
        "**PYTHON FILE HANDLING:**\n",
        "\n",
        "File handling is an important part of any web application.\n",
        "Python has several functions for creating, reading, updating, and deleting files."
      ],
      "metadata": {
        "id": "bSpme9MfHdb2"
      }
    },
    {
      "cell_type": "code",
      "source": [
        "f = open(\"demofile2.txt\", \"a\")\n",
        "f.write(\"Now the file has more content!\")\n",
        "f.close()\n",
        "\n",
        "#open and read the file after the appending:\n",
        "f = open(\"demofile2.txt\", \"r\")\n",
        "print(f.read())"
      ],
      "metadata": {
        "colab": {
          "base_uri": "https://localhost:8080/"
        },
        "id": "RO5PB038Hdsu",
        "outputId": "1d6032f7-67d1-408a-f1b8-348ade3ea7a3"
      },
      "execution_count": null,
      "outputs": [
        {
          "output_type": "stream",
          "name": "stdout",
          "text": [
            "Now the file has more content!\n"
          ]
        }
      ]
    },
    {
      "cell_type": "code",
      "source": [
        "# \"w\" - Write - will overwrite any existing content\n",
        "f = open(\"demofile3.txt\", \"w\")\n",
        "f.write(\"Woops! I have deleted the content!\")\n",
        "f.close()\n",
        "\n",
        "# \"a\" - Append - will append to the end of the file\n",
        "f = open(\"demofile3.txt\", \"a\")\n",
        "f.write(\"\\n Now the file has more content!\")\n",
        "f.close()\n",
        "\n",
        "# open and read the file after the overwriting:\n",
        "f = open(\"demofile3.txt\", \"r\")\n",
        "print(f.read())"
      ],
      "metadata": {
        "colab": {
          "base_uri": "https://localhost:8080/"
        },
        "id": "ZSSbf6l6Hn69",
        "outputId": "85bbba55-df6e-4aad-ab25-24c67faf7443"
      },
      "execution_count": null,
      "outputs": [
        {
          "output_type": "stream",
          "name": "stdout",
          "text": [
            "Woops! I have deleted the content!\n",
            " Now the file has more content!\n"
          ]
        }
      ]
    },
    {
      "cell_type": "markdown",
      "source": [
        "**FUNCTION, VARIABLE SCOPE, LOCAL, GLOBAL, NON-LOCAL**"
      ],
      "metadata": {
        "id": "lYoHdVVUgBUU"
      }
    },
    {
      "cell_type": "code",
      "source": [
        "def my_Function():\n",
        "  b = 'local b'\n",
        "  print(b)\n",
        "my_Function()"
      ],
      "metadata": {
        "colab": {
          "base_uri": "https://localhost:8080/"
        },
        "id": "5mtCjIUfgPyO",
        "outputId": "d1fabe61-bc93-4af6-88f0-b82be9121bbc"
      },
      "execution_count": null,
      "outputs": [
        {
          "output_type": "stream",
          "name": "stdout",
          "text": [
            "local b\n"
          ]
        }
      ]
    },
    {
      "cell_type": "code",
      "source": [
        "def my_Function():\n",
        "  b = 'local b'\n",
        "  print(b)\n",
        "my_Function()\n",
        "#print(b)       #"
      ],
      "metadata": {
        "colab": {
          "base_uri": "https://localhost:8080/"
        },
        "id": "4LbCugP0glfN",
        "outputId": "55b4a75e-e5ed-4788-8c5f-3ea45adaabc4"
      },
      "execution_count": null,
      "outputs": [
        {
          "output_type": "stream",
          "name": "stdout",
          "text": [
            "local b\n"
          ]
        }
      ]
    },
    {
      "cell_type": "code",
      "source": [
        "b = 'global b'\n",
        "def my_Function():\n",
        "  b = 'local b'\n",
        "  print(b)\n",
        "my_Function()\n",
        "print(b)"
      ],
      "metadata": {
        "colab": {
          "base_uri": "https://localhost:8080/"
        },
        "id": "qcHr3kNhglxl",
        "outputId": "dbdf94be-f176-4b62-f9c8-14e71353a85d"
      },
      "execution_count": null,
      "outputs": [
        {
          "output_type": "stream",
          "name": "stdout",
          "text": [
            "local b\n",
            "global b\n"
          ]
        }
      ]
    },
    {
      "cell_type": "code",
      "source": [
        "b = 'global b'\n",
        "def my_Function():\n",
        "  #b = 'local b'\n",
        "  print(b)\n",
        "my_Function()\n",
        "print(b)"
      ],
      "metadata": {
        "colab": {
          "base_uri": "https://localhost:8080/"
        },
        "id": "X_KEJ9v4gzXk",
        "outputId": "774ef426-7143-48a6-c4b2-0e8d85fbd6da"
      },
      "execution_count": null,
      "outputs": [
        {
          "output_type": "stream",
          "name": "stdout",
          "text": [
            "global b\n",
            "global b\n"
          ]
        }
      ]
    },
    {
      "cell_type": "code",
      "source": [
        "b = 'global b'\n",
        "def my_Function():\n",
        "  b = 'local b'\n",
        "  print(b)\n",
        "  b = b + ' test'\n",
        "  print(b)\n",
        "my_Function()\n",
        "print(b)"
      ],
      "metadata": {
        "colab": {
          "base_uri": "https://localhost:8080/"
        },
        "id": "DQv1Vy6BhA6s",
        "outputId": "a0bd1dc3-0d70-425c-b00c-9db911f11249"
      },
      "execution_count": null,
      "outputs": [
        {
          "output_type": "stream",
          "name": "stdout",
          "text": [
            "local b\n",
            "local b test\n",
            "global b\n"
          ]
        }
      ]
    },
    {
      "cell_type": "code",
      "source": [
        "b = 'global b'\n",
        "def my_Function():\n",
        "  global b\n",
        "  b = b + ' test'\n",
        "  print(b)\n",
        "my_Function()\n",
        "print(b)"
      ],
      "metadata": {
        "colab": {
          "base_uri": "https://localhost:8080/"
        },
        "id": "KTXq4HPlhSIF",
        "outputId": "b367e124-d2ce-4f0d-cab7-f0f5051cf841"
      },
      "execution_count": null,
      "outputs": [
        {
          "output_type": "stream",
          "name": "stdout",
          "text": [
            "global b test\n",
            "global b test\n"
          ]
        }
      ]
    },
    {
      "cell_type": "code",
      "source": [
        "b = 'global b'\n",
        "def outer_f():\n",
        "  b = 'outer b'\n",
        "  def inner_f():\n",
        "    b = 'inner b'\n",
        "    print(b)\n",
        "  inner_f()\n",
        "  print(b)\n",
        "\n",
        "outer_f()"
      ],
      "metadata": {
        "colab": {
          "base_uri": "https://localhost:8080/"
        },
        "id": "-5kyvsOAheNd",
        "outputId": "3df2e837-3285-4438-dd03-b5c9002d58f3"
      },
      "execution_count": null,
      "outputs": [
        {
          "output_type": "stream",
          "name": "stdout",
          "text": [
            "inner b\n",
            "outer b\n"
          ]
        }
      ]
    },
    {
      "cell_type": "code",
      "source": [
        "b = 'global b'\n",
        "def outer_f():\n",
        "  #b = 'outer b'\n",
        "  def inner_f():\n",
        "    #b = 'inner b'\n",
        "    print(b)\n",
        "  inner_f()\n",
        "  print(b)\n",
        "\n",
        "outer_f()"
      ],
      "metadata": {
        "colab": {
          "base_uri": "https://localhost:8080/"
        },
        "id": "vmDxz0xaii8u",
        "outputId": "87d85ec1-ec90-4d2e-e938-22ed4dd25eaa"
      },
      "execution_count": null,
      "outputs": [
        {
          "output_type": "stream",
          "name": "stdout",
          "text": [
            "global b\n",
            "global b\n"
          ]
        }
      ]
    },
    {
      "cell_type": "code",
      "source": [
        "b = 'global b'\n",
        "def outer_f():\n",
        "  b = 'outer b'\n",
        "  def inner_f():\n",
        "    #b = 'inner b'\n",
        "    nonlocal b\n",
        "    b = b + ' test'\n",
        "    print(b)\n",
        "  inner_f()\n",
        "  print(b)\n",
        "\n",
        "outer_f()"
      ],
      "metadata": {
        "colab": {
          "base_uri": "https://localhost:8080/"
        },
        "id": "jQhhV_TciShj",
        "outputId": "445fff73-576a-4f2c-ddfc-bf329be6eb16"
      },
      "execution_count": null,
      "outputs": [
        {
          "output_type": "stream",
          "name": "stdout",
          "text": [
            "outer b test\n",
            "outer b test\n"
          ]
        }
      ]
    },
    {
      "cell_type": "markdown",
      "source": [
        "# PYTHON-OBJECT ORIENTED PROGRAMMING\n",
        "**CLASS:** A Class is like an object constructor, or a \"blueprint\" for creating objects.   \n",
        "**OBJECT**: An object is an element (or instance) of a class; objects have the behaviors of their class.  \n",
        "**METHOD**: Functions that are associated with an object or a class in Python programming.          \n",
        "**CONSTRUCTOR:**  a special class method for creating and initializing an object instance at that class."
      ],
      "metadata": {
        "id": "H2HMFHbNiq4H"
      }
    },
    {
      "cell_type": "code",
      "source": [
        "#declaring a class\n",
        "class Person:\n",
        "\n",
        "  name = \"\"           #class property\n",
        "  roll = \"\"            #class property\n",
        "\n",
        "\n",
        "#==================================================\n",
        "\n",
        "#creating object/instance\n",
        "#variable = class_name\n",
        "p1 = Person()\n",
        "\n",
        "p1.name = \"Rahim\"\n",
        "p1.roll = 101\n",
        "\n",
        "print(isinstance(p1,Person))\n",
        "print(f\"Name: {p1.name}, Roll: {p1.roll}\")\n"
      ],
      "metadata": {
        "colab": {
          "base_uri": "https://localhost:8080/"
        },
        "id": "0UgqNhG9lrSK",
        "outputId": "1118f7a4-7e68-499f-93ca-c106d645ff0a"
      },
      "execution_count": null,
      "outputs": [
        {
          "output_type": "stream",
          "name": "stdout",
          "text": [
            "True\n",
            "Name: Rahim, Roll: 101\n"
          ]
        }
      ]
    },
    {
      "cell_type": "code",
      "source": [
        "#declaring a class\n",
        "class Person:\n",
        "\n",
        "  #instance method\n",
        "  def display(self):\n",
        "     print(f\"Name: {p1.name}, Roll: {p1.roll}\")\n",
        "\n",
        "#creating object/instance\n",
        "p1 = Person()             #instance 1\n",
        "p2 = Person()             #instance 2\n",
        "\n",
        "p1.name = \"Rahim\"\n",
        "p1.roll = 101\n",
        "\n",
        "p1.name = \"Karim\"\n",
        "p1.roll = 102\n",
        "\n",
        "print(isinstance(p1,Person))\n",
        "print(isinstance(p2,Person))\n",
        "p1.display()\n",
        "p2.display()"
      ],
      "metadata": {
        "colab": {
          "base_uri": "https://localhost:8080/"
        },
        "id": "qbpsr_jPoz9W",
        "outputId": "d02ea035-ca6a-47f1-e58d-fd35246c42da"
      },
      "execution_count": null,
      "outputs": [
        {
          "output_type": "stream",
          "name": "stdout",
          "text": [
            "True\n",
            "True\n",
            "Name: Karim, Roll: 102\n",
            "Name: Karim, Roll: 102\n"
          ]
        }
      ]
    },
    {
      "cell_type": "code",
      "source": [
        "#declaring a class\n",
        "class Person:\n",
        "\n",
        "  #instance method\n",
        "  def set_value(self,name,roll):\n",
        "      self.name = name\n",
        "      self.roll = roll\n",
        "\n",
        "  #instance method\n",
        "  def display(self):\n",
        "     print(\"Name:\",self.name,'\\n' \"Roll:\",self.roll)\n",
        "\n",
        "p1 = Person()\n",
        "\n",
        "p1.set_value(\"Rahim\",101)\n",
        "p1.display()\n"
      ],
      "metadata": {
        "colab": {
          "base_uri": "https://localhost:8080/"
        },
        "id": "U0wPMSmCo7AO",
        "outputId": "17b26ad5-b09a-4df8-d16b-02cdd6eb1e1c"
      },
      "execution_count": null,
      "outputs": [
        {
          "output_type": "stream",
          "name": "stdout",
          "text": [
            "Name: Rahim \n",
            "Roll: 101\n"
          ]
        }
      ]
    },
    {
      "cell_type": "code",
      "source": [
        "class house:\n",
        "\n",
        "  #constructor\n",
        "  def __init__(self):\n",
        "      self.window = 4         #instance variable\n",
        "      self.door = 2            #instance variable\n",
        "  #instance method\n",
        "  def view(self):\n",
        "     print(self.window,\"windows\",self.door,\"doors\")\n",
        "\n",
        "h1 = house()\n",
        "\n",
        "h1.view()\n",
        "\n",
        "h1.window = 6\n",
        "h1.door = 4\n",
        "\n",
        "h1.view()\n",
        "print(isinstance(h1,house))\n"
      ],
      "metadata": {
        "colab": {
          "base_uri": "https://localhost:8080/"
        },
        "id": "vwUszwbGsacO",
        "outputId": "73c720a2-ca76-4620-816b-e3a8f895afde"
      },
      "execution_count": null,
      "outputs": [
        {
          "output_type": "stream",
          "name": "stdout",
          "text": [
            "4 windows 2 doors\n",
            "6 windows 4 doors\n",
            "True\n"
          ]
        }
      ]
    },
    {
      "cell_type": "code",
      "source": [
        "class Person:\n",
        "\n",
        "  #parameterized constructor\n",
        "  def __init__(self,name,roll):\n",
        "      self.name = name            #instance variable\n",
        "      self.roll = roll            #instance variable\n",
        "\n",
        "  #instance method\n",
        "  def display(self):\n",
        "     print(\"Name:\",self.name ,'\\n' \"Roll:\",self.roll)\n",
        "\n",
        "p1 = Person(\"Rahim\",101)\n",
        "p1.display()\n",
        "\n",
        "print(isinstance(p1,Person))"
      ],
      "metadata": {
        "colab": {
          "base_uri": "https://localhost:8080/"
        },
        "id": "bmjh8YL0pGF7",
        "outputId": "ea6ccdb6-45e7-4bba-b10f-48d10a86ab5d"
      },
      "execution_count": null,
      "outputs": [
        {
          "output_type": "stream",
          "name": "stdout",
          "text": [
            "Name: Rahim \n",
            "Roll: 101\n",
            "True\n"
          ]
        }
      ]
    },
    {
      "cell_type": "code",
      "source": [
        "class car:\n",
        "\n",
        "  def __init__(self,name,model):\n",
        "    self.name = name\n",
        "    self.model_year = model\n",
        "    self.wheel = 4\n",
        "\n",
        "  def view(self):\n",
        "    print(\"The model of this\",self.name,\"is\",self.model_year)\n",
        "    print(\"It is a\",self.wheel,\"wheel car.\")\n",
        "\n",
        "#===========================================================================\n",
        "car1 = car(\"Audi\",2024)\n",
        "car2 = car(\"Marcedes\", 2023)\n",
        "\n",
        "car1.view()\n",
        "car2.view()"
      ],
      "metadata": {
        "colab": {
          "base_uri": "https://localhost:8080/"
        },
        "id": "8efeuG8gzJrU",
        "outputId": "8eb82310-f415-4fa8-8dfb-53f0eabb26c0"
      },
      "execution_count": null,
      "outputs": [
        {
          "output_type": "stream",
          "name": "stdout",
          "text": [
            "The model of this Audi is 2024\n",
            "It is a 4 wheel car.\n",
            "The model of this Marcedes is 2023\n",
            "It is a 4 wheel car.\n"
          ]
        }
      ]
    },
    {
      "cell_type": "code",
      "source": [
        "class dog:\n",
        "\n",
        "  def __init__(self,name,color):\n",
        "      self.name = name            #instance variable\n",
        "      self.color = color           #instance variable\n",
        "\n",
        "  def update_color(self,color):\n",
        "       self.color = color\n",
        "\n",
        "  def view(self):\n",
        "     print(self.color,self.name,\"is smiling\")\n",
        "\n",
        "d1 = dog(\"Rover\", \"Brown\")\n",
        "d1.view()\n",
        "\n",
        "d1.update_color(\"White\")\n",
        "d1.view()\n"
      ],
      "metadata": {
        "colab": {
          "base_uri": "https://localhost:8080/"
        },
        "id": "hU-Gx5pYpXNH",
        "outputId": "24b0e6ae-7cd7-40e1-ff00-fbe0eef55261"
      },
      "execution_count": null,
      "outputs": [
        {
          "output_type": "stream",
          "name": "stdout",
          "text": [
            "Brown Rover is smiling\n",
            "White Rover is smiling\n"
          ]
        }
      ]
    },
    {
      "cell_type": "code",
      "source": [
        "class book:\n",
        "  def __init__(self, name, author):\n",
        "    self.name = name\n",
        "    self.author = author\n",
        "    self.price = 0\n",
        "\n",
        "  def set_price(self, price):\n",
        "    self.price = price\n",
        "\n",
        "  def get_price(self):\n",
        "    return self.price\n",
        "\n",
        "  def display(self):\n",
        "    print(\"\\nBook Name:\", self.name,\n",
        "          \"\\nAuthor:\", self.author,\n",
        "          \"\\nPrice:\", self.price,\"Taka\")\n",
        "\n",
        "#==================================================================\n",
        "b1 = book(\"Opekkha\",\"Humayun Ahmed\")\n",
        "b1.display()\n",
        "\n",
        "b1.set_price(255)\n",
        "x = b1.get_price()\n",
        "print('\\n',x,'taka')\n",
        "b1.display()\n"
      ],
      "metadata": {
        "colab": {
          "base_uri": "https://localhost:8080/"
        },
        "id": "_sARCRXiWW0g",
        "outputId": "12df371b-601a-49bd-90ef-9a049c199b80"
      },
      "execution_count": null,
      "outputs": [
        {
          "output_type": "stream",
          "name": "stdout",
          "text": [
            "\n",
            "Book Name: Opekkha \n",
            "Author: Humayun Ahmed \n",
            "Price: 0 Taka\n",
            "\n",
            " 255 taka\n",
            "\n",
            "Book Name: Opekkha \n",
            "Author: Humayun Ahmed \n",
            "Price: 255 Taka\n"
          ]
        }
      ]
    },
    {
      "cell_type": "code",
      "source": [
        "class cat:\n",
        "\n",
        "  def __init__(self,name,action):\n",
        "      self.name = name            #instance variable\n",
        "      self.action = action          #instance variable\n",
        "\n",
        "\n",
        "  def view(self):\n",
        "     print(self.action,\"is smiling\",self.name,)\n",
        "\n",
        "  def compare(self,ct):\n",
        "    if self.action == ct.action:\n",
        "      print(\"Both car are\",self.action)\n",
        "    else:\n",
        "      print(\"They are different\")\n",
        "\n",
        "\n",
        "#==============================================================\n",
        "c1 = cat(\"brown\", \"jumping\")\n",
        "c2 = cat(\"white\",\"sitting\")\n",
        "c1.view()\n",
        "c2.view()\n",
        "c1.compare(c2)"
      ],
      "metadata": {
        "colab": {
          "base_uri": "https://localhost:8080/"
        },
        "id": "V_zgdhK5aGD7",
        "outputId": "8fe876c7-d672-4d17-fe90-6ed26e10e1fa"
      },
      "execution_count": null,
      "outputs": [
        {
          "output_type": "stream",
          "name": "stdout",
          "text": [
            "jumping is smiling brown\n",
            "sitting is smiling white\n",
            "They are different\n"
          ]
        }
      ]
    },
    {
      "cell_type": "code",
      "source": [
        "#pass by value, pass by reference\n",
        "class cat:\n",
        "\n",
        "  def __init__(self,name,action):\n",
        "      self.name = name            #instance variable\n",
        "      self.action = action          #instance variable\n",
        "\n",
        "\n",
        "  def view(self,num,clr):\n",
        "    num = num + 5\n",
        "    clr1 = clr\n",
        "    clr1[0] = 'green'\n",
        "\n",
        "    print('method inside:',num)\n",
        "    print('method inside',clr1)\n",
        "\n",
        "#==============================================================\n",
        "color = ['black', 'red', 'yellow', 'blue']\n",
        "c1 = cat(\"brown\", \"jumping\")\n",
        "x = 55\n",
        "c1.view(x,color)"
      ],
      "metadata": {
        "colab": {
          "base_uri": "https://localhost:8080/"
        },
        "id": "5-f5zeJsh1Ab",
        "outputId": "b85613d1-0717-4d08-957d-97f9da2325c8"
      },
      "execution_count": null,
      "outputs": [
        {
          "output_type": "stream",
          "name": "stdout",
          "text": [
            "method inside: 60\n",
            "method inside ['green', 'red', 'yellow', 'blue']\n"
          ]
        }
      ]
    },
    {
      "cell_type": "markdown",
      "source": [
        "**PYTHON POLYMORPHISM**"
      ],
      "metadata": {
        "id": "paqKC45kbw6p"
      }
    },
    {
      "cell_type": "code",
      "source": [
        "#method overloading\n",
        "class calculator:\n",
        "\n",
        "  def product(self, *nums):\n",
        "    pro = 1\n",
        "    for x in nums:\n",
        "      pro = pro * x\n",
        "\n",
        "    print(pro)\n",
        "\n",
        "#===========================================\n",
        "c1 = calculator()\n",
        "c1.product(1)\n",
        "c1.product(4,3)\n",
        "c1.product(5,9,2)"
      ],
      "metadata": {
        "colab": {
          "base_uri": "https://localhost:8080/"
        },
        "id": "33nQyyp_jXPP",
        "outputId": "8bef423c-ce4a-41c6-c2c8-1ceb997286b8"
      },
      "execution_count": null,
      "outputs": [
        {
          "output_type": "stream",
          "name": "stdout",
          "text": [
            "1\n",
            "12\n",
            "90\n"
          ]
        }
      ]
    },
    {
      "cell_type": "code",
      "source": [
        "# way-2 method overloading\n",
        "\n",
        "class calculator:\n",
        "  def product(self, num1, num2 = None, num3 = None,):\n",
        "    if num1 != None and num2 != None and num3 != None:\n",
        "      print(num1*num2*num3)\n",
        "    elif num1 != None and num2 != None:\n",
        "       print(num1*num2)\n",
        "    else:\n",
        "       print(1*num1)\n",
        "\n",
        "#===========================================\n",
        "c1 = calculator()\n",
        "c1.product(1)\n",
        "c1.product(4,3)\n",
        "c1.product(5,9,2)"
      ],
      "metadata": {
        "colab": {
          "base_uri": "https://localhost:8080/"
        },
        "id": "O9cWPbspkLSc",
        "outputId": "c543f57b-c1f2-4569-d11f-b4692baa80eb"
      },
      "execution_count": null,
      "outputs": [
        {
          "output_type": "stream",
          "name": "stdout",
          "text": [
            "1\n",
            "12\n",
            "90\n"
          ]
        }
      ]
    },
    {
      "cell_type": "code",
      "source": [
        "#constructor overloading\n",
        "class student:\n",
        "  '''def __init__(self,name,id):\n",
        "      self.name = name\n",
        "      self.id = id  '''\n",
        "\n",
        "  def __init__(self, *info):\n",
        "    if len(info) == 3 :\n",
        "      self.name = info[0]\n",
        "      self.id = info[1]\n",
        "      self.cgpa = info[2]\n",
        "\n",
        "    elif len(info) == 3 :\n",
        "      self.name = info[0]\n",
        "      self.id = info[1]\n",
        "\n",
        "    elif len(info) == 1 :\n",
        "      self.name = info[0]\n",
        "\n",
        "\n",
        "    print('A student object is created')\n",
        "\n",
        "\n",
        "#========================================================\n",
        "s1 = student('Tanjirul', 101)\n",
        "s2 = student ('Tusher', 102, 3.85)\n",
        "s3 = student('mike')"
      ],
      "metadata": {
        "colab": {
          "base_uri": "https://localhost:8080/"
        },
        "id": "QPhFHqcvlv3O",
        "outputId": "599049a0-253b-4d2b-b1b6-173ebfe8e067"
      },
      "execution_count": null,
      "outputs": [
        {
          "output_type": "stream",
          "name": "stdout",
          "text": [
            "A student object is created\n",
            "A student object is created\n",
            "A student object is created\n"
          ]
        }
      ]
    },
    {
      "cell_type": "code",
      "source": [
        "#operator overloading\n",
        "class data:\n",
        "  def __init__(self,x):\n",
        "    self.x = x\n",
        "\n",
        "  #adding two object\n",
        "  def __add__(self,other):\n",
        "    return self.x + other.x\n",
        "\n",
        "  def __gt__(self,other):\n",
        "    if(self.x > other.x):\n",
        "      return True\n",
        "    else:\n",
        "      return False\n",
        "\n",
        "  def __eq__(self,other):\n",
        "    if(self.x == other.x):\n",
        "      return \"both are equal\"\n",
        "    else:\n",
        "      return \"not equal\"\n",
        "\n",
        "#=========================================\n",
        "num1 = data(10)\n",
        "print(type(num1))\n",
        "num2 = data(20)\n",
        "print(num1 + num2)      # num1 .__add__(num2)\n",
        "\n",
        "if (num1 > num2):\n",
        "  print(\"num1 is grater than num2\")\n",
        "else:\n",
        "  print(\"num2 is grater than num2\")       # num1 .__gt__(num2)\n",
        "\n",
        "print (num1 == num2)         # num1.__eq__(num2)"
      ],
      "metadata": {
        "colab": {
          "base_uri": "https://localhost:8080/"
        },
        "id": "UP58V6_NyZR_",
        "outputId": "d33c8235-a6ea-4561-b46b-d18b75628779"
      },
      "execution_count": null,
      "outputs": [
        {
          "output_type": "stream",
          "name": "stdout",
          "text": [
            "<class '__main__.data'>\n",
            "30\n",
            "num2 is grater than num2\n",
            "not equal\n"
          ]
        }
      ]
    },
    {
      "cell_type": "code",
      "source": [
        "# operator overloading\n",
        "\n",
        "class house:\n",
        "  #constructor\n",
        "  def __init__(self,w,d):\n",
        "      self.window = w         #instance variable\n",
        "      self.door = d            #instance variable\n",
        "  #instance method\n",
        "  def view(self):\n",
        "     print(\"the house has\",self.window,\"windows and\",self.door,\"doors\")\n",
        "\n",
        "  def __add__(self,other):\n",
        "    new_window = self.window + other.window\n",
        "    new_door = self.door + other.door\n",
        "\n",
        "    obj = house(new_window,new_door)\n",
        "    return obj\n",
        "    #return \"new house has \" + str(new_window),\" windows and \" + str(new_door) + \" doors\"\n",
        "\n",
        "h1 = house(6,2)\n",
        "h2 = house(4,1)\n",
        "h1.view()\n",
        "h2.view()\n",
        "\n",
        "h3 = h1 + h2            # h1.__add__(h2)\n",
        "h3.view()\n",
        "\n",
        "#print(h1+h2)            #h1.__add__(h2)\n"
      ],
      "metadata": {
        "colab": {
          "base_uri": "https://localhost:8080/"
        },
        "id": "jphZq18WpPZ6",
        "outputId": "c56abff4-48b3-41be-f1da-1c7aacfbb50e"
      },
      "execution_count": null,
      "outputs": [
        {
          "output_type": "stream",
          "name": "stdout",
          "text": [
            "the house has 6 windows and 2 doors\n",
            "the house has 4 windows and 1 doors\n",
            "the house has 10 windows and 3 doors\n"
          ]
        }
      ]
    },
    {
      "cell_type": "markdown",
      "source": [
        "**PYTHON ENCAPSULATION**"
      ],
      "metadata": {
        "id": "d2flFURVbiDV"
      }
    },
    {
      "cell_type": "code",
      "source": [
        "# pyhton encapsulation\n",
        "class Student:\n",
        "  def __init__(self, name, id):\n",
        "      self.name = name     #instance variable\n",
        "      #self.id = id        #instance variable\n",
        "      self.__id = id       #private instance variable\n",
        "  def view(self):\n",
        "    #print(\"Name:\", self.name, \"\\nId:\", self.id)\n",
        "    print(\"Name:\", self.name, \"\\nId:\", self.__id)\n",
        "\n",
        "\n",
        "  def update_id(self,id):\n",
        "    if(id>0):\n",
        "      self.__id = id\n",
        "    else:\n",
        "      print(\"Invalid id, enter id again.\")\n",
        "\n",
        "#=================================\n",
        "s1 = Student(\"tusher\",101)\n",
        "\n",
        "#s1.id = 100        #\n",
        "s1.update_id(-55)\n",
        "\n",
        "s1.view()\n",
        "#print(s1.__id)       #'Student' object has no attribute 'id'"
      ],
      "metadata": {
        "colab": {
          "base_uri": "https://localhost:8080/"
        },
        "id": "oGHnh_1epPdX",
        "outputId": "ae574e42-0fa5-4694-dd7e-93b03194b271"
      },
      "execution_count": null,
      "outputs": [
        {
          "output_type": "stream",
          "name": "stdout",
          "text": [
            "Invalid id, enter id again.\n",
            "Name: tusher \n",
            "Id: 101\n"
          ]
        }
      ]
    },
    {
      "cell_type": "code",
      "source": [
        "class Student:\n",
        "  def __init__(self, name, id):\n",
        "      self.name = name     #instance variable\n",
        "      #self.id = id        #instance variable\n",
        "      self.__id = id       #private instance variable\n",
        "  def view(self):\n",
        "    print(\"Name:\", self.name, \"\\nId:\", self.__id)\n",
        "\n",
        "  def set_id(self,id):\n",
        "    if(id>0):\n",
        "      self.__id = id\n",
        "    else:\n",
        "      print(\"Invalid id, enter id again.\")\n",
        "\n",
        "  def get_id(self):\n",
        "    return self.__id\n",
        "\n",
        "  def set_name(self,name):\n",
        "    self.name = name\n",
        "\n",
        "  def get_name(self):\n",
        "    return self.name\n",
        "\n",
        "#=================================\n",
        "s1 = Student(\"tusher\",101)\n",
        "s1.view()\n",
        "\n",
        "s1.set_id(100)\n",
        "s1.set_name(\"Tanjirul\")\n",
        "\n",
        "s1.view()"
      ],
      "metadata": {
        "colab": {
          "base_uri": "https://localhost:8080/"
        },
        "id": "A44DXKcj_aVq",
        "outputId": "861243ac-ac62-4de7-fdf5-0590973d440e"
      },
      "execution_count": null,
      "outputs": [
        {
          "output_type": "stream",
          "name": "stdout",
          "text": [
            "Name: tusher \n",
            "Id: 101\n",
            "Name: Tanjirul \n",
            "Id: 100\n"
          ]
        }
      ]
    },
    {
      "cell_type": "markdown",
      "source": [
        "**CLASS OR STATIC VARIABLE**"
      ],
      "metadata": {
        "id": "3_eZQt17N0Cj"
      }
    },
    {
      "cell_type": "code",
      "source": [
        "#cLass or static variable\n",
        "class player:\n",
        "\n",
        "  team_run = 0\n",
        "\n",
        "  def __init__(self, run):\n",
        "    self.run = run\n",
        "\n",
        "  def hit_four(self):\n",
        "    self.run += 4\n",
        "    player.team_run += 4\n",
        "\n",
        "  def hit_six(self):\n",
        "    self.run += 6\n",
        "    player.team_run += 6\n",
        "\n",
        "print(player.team_run)\n",
        "rohit = player(0)\n",
        "kohli = player(0)\n",
        "\n",
        "rohit.hit_six()\n",
        "rohit.hit_four()\n",
        "rohit.hit_four()\n",
        "\n",
        "kohli.hit_six()\n",
        "kohli.hit_four()\n",
        "\n",
        "print(\"Rohit:\",rohit.run)\n",
        "print(\"Kohli:\",kohli.run)\n",
        "print(\"Team Run:\",player.team_run)\n",
        "print(\"Team Run:\",rohit.team_run)\n"
      ],
      "metadata": {
        "colab": {
          "base_uri": "https://localhost:8080/"
        },
        "id": "Iy4zzL9WCh_d",
        "outputId": "09f53827-e226-4089-8b70-58c076dbf867"
      },
      "execution_count": null,
      "outputs": [
        {
          "output_type": "stream",
          "name": "stdout",
          "text": [
            "0\n",
            "Rohit: 14\n",
            "Kohli: 10\n",
            "Team Run: 24\n",
            "Team Run: 24\n"
          ]
        }
      ]
    },
    {
      "cell_type": "markdown",
      "source": [
        "**CLASS METHOD**"
      ],
      "metadata": {
        "id": "jqxIcr_qLE5z"
      }
    },
    {
      "cell_type": "code",
      "source": [
        "class Student:\n",
        "\n",
        "  uni_name = 'Northern Univeristy'\n",
        "\n",
        "  def __init__(self, name, id):\n",
        "      self.name = name     #instance variable\n",
        "      self.__id = id        #instance variable\n",
        "\n",
        "  def view(self):\n",
        "    print(\"Name:\", self.name,\"Id:\", self.__id, Student.uni_name)\n",
        "\n",
        "  @classmethod\n",
        "  def up_uni_name(cls, u_name):\n",
        "    print(\"CLASS METHOF IS CALLED\")\n",
        "    cls.uni_name = u_name\n",
        "\n",
        "#=================================================\n",
        "s1 = Student(\"tusher\",101)\n",
        "s2 = Student(\"rahim\",102)\n",
        "s1.view()\n",
        "s2.view()\n",
        "\n",
        "Student.up_uni_name(\"NUB\")\n",
        "s1.view()\n",
        "s2.view()"
      ],
      "metadata": {
        "colab": {
          "base_uri": "https://localhost:8080/"
        },
        "id": "3PrrDt2VK7pW",
        "outputId": "1223176e-03bd-40a2-a667-09eb3a6a362c"
      },
      "execution_count": null,
      "outputs": [
        {
          "output_type": "stream",
          "name": "stdout",
          "text": [
            "Name: tusher Id: 101 Northern Univeristy\n",
            "Name: rahim Id: 102 Northern Univeristy\n",
            "Name: tusher Id: 101 NUB\n",
            "Name: rahim Id: 102 NUB\n"
          ]
        }
      ]
    },
    {
      "cell_type": "code",
      "source": [
        "# constructor overloading by class method\n",
        "class Student:\n",
        "\n",
        "  uni_name = 'Northern Univeristy'\n",
        "\n",
        "  def __init__(self, name, id):\n",
        "      self.name = name     #instance variable\n",
        "      self.__id = id        #instance variable\n",
        "\n",
        "  def view(self):\n",
        "    print(\"Name:\", self.name,\"Id:\", self.__id, Student.uni_name)\n",
        "\n",
        "  @classmethod\n",
        "  def up_uni_name(cls, u_name):\n",
        "    cls.uni_name = u_name\n",
        "\n",
        "  @classmethod\n",
        "  def from_string(cls, info):\n",
        "   name, id = info.split('-')\n",
        "   obj = cls(name, id)\n",
        "   return obj\n",
        "\n",
        "#=================================================\n",
        "s1 = Student(\"tusher\",101)\n",
        "s2 = Student.from_string(\"rahim-102\")    # from_string is class method that's why is called by reference of class\n",
        "s1.view()\n",
        "s2.view()"
      ],
      "metadata": {
        "colab": {
          "base_uri": "https://localhost:8080/"
        },
        "id": "JtZ0gOJtNG1t",
        "outputId": "56f886d0-8822-4572-cd9a-201b381df33a"
      },
      "execution_count": null,
      "outputs": [
        {
          "output_type": "stream",
          "name": "stdout",
          "text": [
            "Name: tusher Id: 101 Northern Univeristy\n",
            "Name: rahim Id: 102 Northern Univeristy\n"
          ]
        }
      ]
    },
    {
      "cell_type": "markdown",
      "source": [
        "**STATIC METHOD**"
      ],
      "metadata": {
        "id": "gYLb8pvkTs6L"
      }
    },
    {
      "cell_type": "code",
      "source": [
        "# constructor overloading by class method\n",
        "class Student:\n",
        "\n",
        "  uni_name = 'Northern Univeristy'\n",
        "\n",
        "  def __init__(self, name, id):\n",
        "      self.name = name     #instance variable\n",
        "      self.__id = id        #instance variable\n",
        "\n",
        "  def view(self):\n",
        "    print(\"Name:\", self.name,\"Id:\", self.__id, Student.uni_name)\n",
        "\n",
        "  @classmethod\n",
        "  def up_uni_name(cls, u_name):\n",
        "    cls.uni_name = u_name\n",
        "\n",
        "  @staticmethod\n",
        "  def check_department(id):\n",
        "    if id [4:6]   == \"01\" : print('cse')\n",
        "    elif id [4:6] == \"02\" : print('eee')\n",
        "\n",
        "\n",
        "#=========================================\n",
        "Student.check_department(\"41230100923\")\n",
        "s1 = Student(\"tusher\", 41230100823)\n",
        "s2 = Student(\"rahim\",41230200788)\n",
        "Student.check_department(\"41230100823\")"
      ],
      "metadata": {
        "colab": {
          "base_uri": "https://localhost:8080/"
        },
        "id": "By3b-lO5SLTI",
        "outputId": "5b8326ee-5c1d-487a-9ae4-bff18accb480"
      },
      "execution_count": null,
      "outputs": [
        {
          "output_type": "stream",
          "name": "stdout",
          "text": [
            "cse\n",
            "cse\n"
          ]
        }
      ]
    },
    {
      "cell_type": "markdown",
      "source": [
        "**PYTHON INHEITANCE**"
      ],
      "metadata": {
        "id": "G0Z5z9Fl081N"
      }
    },
    {
      "cell_type": "code",
      "source": [
        "# SINGLE INHERITANCE\n",
        "class animal:\n",
        "\n",
        "  def __init__(self, name):\n",
        "    self.name = name\n",
        "\n",
        "  def eat(self):\n",
        "    print(self.name,'is eating')\n",
        "\n",
        "#=================================================\n",
        "class dog(animal):\n",
        "\n",
        "  def bark(self):\n",
        "    print(self.name,'is barking')\n",
        "\n",
        "#==================================================\n",
        "a1 = animal('jack')\n",
        "d1 = dog('lover ')\n",
        "d1.bark()\n",
        "d1.eat()\n",
        "a1.eat()\n",
        "#a1.bark()                # output: 'animal' object has no attribute 'bark'"
      ],
      "metadata": {
        "id": "jaHmcpNVVyJX",
        "colab": {
          "base_uri": "https://localhost:8080/"
        },
        "outputId": "2650139a-9a13-4a79-e2c5-79e2b9d990b5"
      },
      "execution_count": null,
      "outputs": [
        {
          "output_type": "stream",
          "name": "stdout",
          "text": [
            "lover  is barking\n",
            "lover  is eating\n",
            "jack is eating\n"
          ]
        }
      ]
    },
    {
      "cell_type": "code",
      "source": [
        "# HIERARCHICAL INHERITANCE\n",
        "class student:\n",
        "\n",
        "  def __init__(self, name, id):\n",
        "      self.name = name     #instance variable\n",
        "      self.id = id        #instance variable\n",
        "\n",
        "  def view(self):\n",
        "    print(\"Name:\", self.name,\"Id:\", self.id)\n",
        "\n",
        "#===============================================================================\n",
        "class cseStudent(student):\n",
        "\n",
        "  def __init__(self, name, id, labs):\n",
        "    super().__init__(name,id)\n",
        "    ''' self.name = name\n",
        "    self.id = id  '''\n",
        "    self.no_of_labs = labs\n",
        "\n",
        "  def cry(self):\n",
        "    print('cse student is crying because of',self.no_of_labs,'labs')\n",
        "#==============================================================================\n",
        "\n",
        "class bbaStudent(student):\n",
        "\n",
        "  '''def __init__(self, name, id):\n",
        "    self.name = name     #instance variable\n",
        "    self.id = id        #instance variable   '''\n",
        "\n",
        "  def party(self):\n",
        "    print('all day party')\n",
        "#===============================================================================\n",
        "\n",
        "s1 = cseStudent('tusher', 11, 3)\n",
        "s2 = bbaStudent('hira', 36)\n",
        "\n",
        "#print(s1.__dict__)\n",
        "\n",
        "s1.view()\n",
        "s2.view()\n",
        "\n",
        "s1.cry()\n",
        "s2.party()"
      ],
      "metadata": {
        "colab": {
          "base_uri": "https://localhost:8080/"
        },
        "id": "Jq0BiXjq9LBx",
        "outputId": "f59cbcb8-3c42-45df-ad56-51256bd17723"
      },
      "execution_count": null,
      "outputs": [
        {
          "output_type": "stream",
          "name": "stdout",
          "text": [
            "Name: tusher Id: 11\n",
            "Name: hira Id: 36\n",
            "cse student is crying because of 3 labs\n",
            "all day party\n"
          ]
        }
      ]
    },
    {
      "cell_type": "code",
      "source": [
        "# MULTILEVEL INHERITANCE\n",
        "class student:                                   # grand parent class\n",
        "\n",
        "  def __init__(self, name, id):\n",
        "      self.name = name     #instance variable\n",
        "      self.id = id        #instance variable\n",
        "\n",
        "  def view(self):\n",
        "    print(\"Name:\", self.name,\"Id:\", self.id)\n",
        "\n",
        "#===============================================================================\n",
        "class cseStudent(student):                      # parent class\n",
        "\n",
        "  def __init__(self, name, id, labs):\n",
        "    super().__init__(name,id)\n",
        "    self.no_of_labs = labs\n",
        "\n",
        "  def cry(self):\n",
        "    print('cse student is crying because of',self.no_of_labs,'lab(s)')\n",
        "\n",
        "#===============================================================================\n",
        "\n",
        "class cseFresher(cseStudent):                   # child class\n",
        "\n",
        "  def enroll_cse110(self):\n",
        "    print('Enrolled in CSE-110')\n",
        "\n",
        "#===============================================================================\n",
        "\n",
        "s1 = cseStudent('tusher', 11, 3)\n",
        "s2 = cseFresher('carol', 55, 1)\n",
        "\n",
        "s2.view()\n",
        "s1.view()\n",
        "s1.cry()\n",
        "s2.cry()"
      ],
      "metadata": {
        "colab": {
          "base_uri": "https://localhost:8080/"
        },
        "id": "ghGuazh0DKQD",
        "outputId": "a7caf255-6f28-4b72-b7d6-1fc09e64c83e"
      },
      "execution_count": null,
      "outputs": [
        {
          "output_type": "stream",
          "name": "stdout",
          "text": [
            "Name: carol Id: 55\n",
            "Name: tusher Id: 11\n",
            "cse student is crying because of 3 lab(s)\n",
            "cse student is crying because of 1 lab(s)\n"
          ]
        }
      ]
    },
    {
      "cell_type": "code",
      "source": [
        "# MULTIPLE INHERITANCE\n",
        "\n",
        "class a:\n",
        "  def __init__(self):\n",
        "    print('__init__ of class a')\n",
        "\n",
        "  def method1(self):\n",
        "    print('method1 of class a')\n",
        "\n",
        "#===============================================================================\n",
        "\n",
        "class b:\n",
        "  def __init__(self):\n",
        "    print('__init__ of class b')\n",
        "\n",
        "  def method1(self):\n",
        "    print('method1 of class b')\n",
        "\n",
        "#===============================================================================\n",
        "\n",
        "class c(a,b):\n",
        "  def __init__(self):\n",
        "    #super().__init__()\n",
        "    #b.__init__(self)\n",
        "\n",
        "    print('__init__ of class c')\n",
        "\n",
        "  def method2(self):\n",
        "    print('method2 of class c')\n",
        "\n",
        "#===============================================================================\n",
        "\n",
        "c1 = c()\n",
        "c1.method1()\n",
        "c1.method2()\n",
        "b.method1(c)"
      ],
      "metadata": {
        "colab": {
          "base_uri": "https://localhost:8080/"
        },
        "id": "pVrTEKSmEqQ7",
        "outputId": "49554dca-b4ba-42f9-a025-0af9c3d534a3"
      },
      "execution_count": null,
      "outputs": [
        {
          "output_type": "stream",
          "name": "stdout",
          "text": [
            "__init__ of class c\n",
            "method1 of class a\n",
            "method2 of class c\n",
            "method1 of class b\n"
          ]
        }
      ]
    },
    {
      "cell_type": "code",
      "source": [
        "# VARIABLE OVERRIDING\n",
        "class animal:\n",
        "\n",
        "  def __init__(self, name):\n",
        "    self.name = name\n",
        "\n",
        "  def eat(self):\n",
        "    print(self.color,self.name,'is eating')\n",
        "\n",
        "#=================================================\n",
        "class dog(animal):\n",
        "\n",
        "  def __init__(self, name, color):\n",
        "    super().__init__(name)\n",
        "    self.color = color\n",
        "\n",
        "  def bark(self):\n",
        "    print(self.color,self.name,'is barking')\n",
        "\n",
        "#==================================================\n",
        "d1 = dog('Rover', 'Brown')\n",
        "print(d1.__dict__)\n",
        "d1.bark()\n",
        "d1.eat()"
      ],
      "metadata": {
        "colab": {
          "base_uri": "https://localhost:8080/"
        },
        "id": "_0elhLtCGzID",
        "outputId": "3bc66c89-adcc-4e85-a7ee-2b12aa44f760"
      },
      "execution_count": null,
      "outputs": [
        {
          "output_type": "stream",
          "name": "stdout",
          "text": [
            "{'name': 'Rover', 'color': 'Brown'}\n",
            "Brown Rover is barking\n",
            "Brown Rover is eating\n"
          ]
        }
      ]
    },
    {
      "cell_type": "code",
      "source": [
        "# METHOD OVERRIDING\n",
        "class a:                               #parent class\n",
        "  def __init__(self):\n",
        "    print('__init__ of class a')\n",
        "\n",
        "  def method1(self):\n",
        "    #print('always study')\n",
        "    print('olpo study')\n",
        "  def method2(Self):\n",
        "    print('you will get all of my property and methods')\n",
        "\n",
        "#===============================================================================\n",
        "\n",
        "class b(a):                            # derived class\n",
        "  def __init__(self):\n",
        "    pass\n",
        "    #print('__init__ of class b')\n",
        "\n",
        "  def method1(self):\n",
        "    super().method1()\n",
        "    print('always party')\n",
        "\n",
        "#===============================================================================\n",
        "b1 = b()\n",
        "b1.method1()\n",
        "b1.method2()"
      ],
      "metadata": {
        "colab": {
          "base_uri": "https://localhost:8080/"
        },
        "id": "8xVFQlP6K76S",
        "outputId": "f6ff3bac-029b-42c1-dc52-f726268f7080"
      },
      "execution_count": null,
      "outputs": [
        {
          "output_type": "stream",
          "name": "stdout",
          "text": [
            "olpo study\n",
            "always party\n",
            "you will get all of my property and methods\n"
          ]
        }
      ]
    }
  ],
  "metadata": {
    "colab": {
      "provenance": [],
      "authorship_tag": "ABX9TyNASOriPHQ5o+12kjxNXzrh",
      "include_colab_link": true
    },
    "kernelspec": {
      "display_name": "Python 3",
      "name": "python3"
    },
    "language_info": {
      "name": "python"
    }
  },
  "nbformat": 4,
  "nbformat_minor": 0
}